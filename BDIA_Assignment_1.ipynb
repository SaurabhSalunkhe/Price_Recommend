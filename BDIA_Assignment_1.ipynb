{
 "cells": [
  {
   "cell_type": "code",
   "execution_count": 64,
   "metadata": {
    "collapsed": true
   },
   "outputs": [],
   "source": [
    "%matplotlib inline\n",
    "\n",
    "import pandas as pd\n",
    "import pandas as pd\n",
    "import seaborn as sns\n",
    "import matplotlib.pyplot as plt\n",
    "plt.rcParams['figure.figsize'] = (15, 9)\n",
    "sns.set_style('whitegrid')\n",
    "import numpy as np\n"
   ]
  },
  {
   "cell_type": "code",
   "execution_count": 65,
   "metadata": {
    "collapsed": true
   },
   "outputs": [],
   "source": [
    "# Reading the training data\n",
    "price_data=pd.read_csv('Datasets/train.tsv',sep='\\t')"
   ]
  },
  {
   "cell_type": "code",
   "execution_count": 3,
   "metadata": {},
   "outputs": [
    {
     "name": "stdout",
     "output_type": "stream",
     "text": [
      "           train_id  item_condition_id         price      shipping\n",
      "count  1.482535e+06       1.482535e+06  1.482535e+06  1.482535e+06\n",
      "mean   7.412670e+05       1.907380e+00  2.673752e+01  4.472744e-01\n",
      "std    4.279711e+05       9.031586e-01  3.858607e+01  4.972124e-01\n",
      "min    0.000000e+00       1.000000e+00  0.000000e+00  0.000000e+00\n",
      "25%    3.706335e+05       1.000000e+00  1.000000e+01  0.000000e+00\n",
      "50%    7.412670e+05       2.000000e+00  1.700000e+01  0.000000e+00\n",
      "75%    1.111900e+06       3.000000e+00  2.900000e+01  1.000000e+00\n",
      "max    1.482534e+06       5.000000e+00  2.009000e+03  1.000000e+00\n"
     ]
    }
   ],
   "source": [
    "# Getting the summary statistics of the data\n",
    "print(price_data.describe())"
   ]
  },
  {
   "cell_type": "code",
   "execution_count": 4,
   "metadata": {},
   "outputs": [
    {
     "data": {
      "text/html": [
       "<div>\n",
       "<style>\n",
       "    .dataframe thead tr:only-child th {\n",
       "        text-align: right;\n",
       "    }\n",
       "\n",
       "    .dataframe thead th {\n",
       "        text-align: left;\n",
       "    }\n",
       "\n",
       "    .dataframe tbody tr th {\n",
       "        vertical-align: top;\n",
       "    }\n",
       "</style>\n",
       "<table border=\"1\" class=\"dataframe\">\n",
       "  <thead>\n",
       "    <tr style=\"text-align: right;\">\n",
       "      <th></th>\n",
       "      <th>train_id</th>\n",
       "      <th>name</th>\n",
       "      <th>item_condition_id</th>\n",
       "      <th>category_name</th>\n",
       "      <th>brand_name</th>\n",
       "      <th>price</th>\n",
       "      <th>shipping</th>\n",
       "      <th>item_description</th>\n",
       "    </tr>\n",
       "  </thead>\n",
       "  <tbody>\n",
       "    <tr>\n",
       "      <th>0</th>\n",
       "      <td>0</td>\n",
       "      <td>MLB Cincinnati Reds T Shirt Size XL</td>\n",
       "      <td>3</td>\n",
       "      <td>Men/Tops/T-shirts</td>\n",
       "      <td>NaN</td>\n",
       "      <td>10.0</td>\n",
       "      <td>1</td>\n",
       "      <td>No description yet</td>\n",
       "    </tr>\n",
       "    <tr>\n",
       "      <th>1</th>\n",
       "      <td>1</td>\n",
       "      <td>Razer BlackWidow Chroma Keyboard</td>\n",
       "      <td>3</td>\n",
       "      <td>Electronics/Computers &amp; Tablets/Components &amp; P...</td>\n",
       "      <td>Razer</td>\n",
       "      <td>52.0</td>\n",
       "      <td>0</td>\n",
       "      <td>This keyboard is in great condition and works ...</td>\n",
       "    </tr>\n",
       "    <tr>\n",
       "      <th>2</th>\n",
       "      <td>2</td>\n",
       "      <td>AVA-VIV Blouse</td>\n",
       "      <td>1</td>\n",
       "      <td>Women/Tops &amp; Blouses/Blouse</td>\n",
       "      <td>Target</td>\n",
       "      <td>10.0</td>\n",
       "      <td>1</td>\n",
       "      <td>Adorable top with a hint of lace and a key hol...</td>\n",
       "    </tr>\n",
       "    <tr>\n",
       "      <th>3</th>\n",
       "      <td>3</td>\n",
       "      <td>Leather Horse Statues</td>\n",
       "      <td>1</td>\n",
       "      <td>Home/Home Décor/Home Décor Accents</td>\n",
       "      <td>NaN</td>\n",
       "      <td>35.0</td>\n",
       "      <td>1</td>\n",
       "      <td>New with tags. Leather horses. Retail for [rm]...</td>\n",
       "    </tr>\n",
       "    <tr>\n",
       "      <th>4</th>\n",
       "      <td>4</td>\n",
       "      <td>24K GOLD plated rose</td>\n",
       "      <td>1</td>\n",
       "      <td>Women/Jewelry/Necklaces</td>\n",
       "      <td>NaN</td>\n",
       "      <td>44.0</td>\n",
       "      <td>0</td>\n",
       "      <td>Complete with certificate of authenticity</td>\n",
       "    </tr>\n",
       "  </tbody>\n",
       "</table>\n",
       "</div>"
      ],
      "text/plain": [
       "   train_id                                 name  item_condition_id  \\\n",
       "0         0  MLB Cincinnati Reds T Shirt Size XL                  3   \n",
       "1         1     Razer BlackWidow Chroma Keyboard                  3   \n",
       "2         2                       AVA-VIV Blouse                  1   \n",
       "3         3                Leather Horse Statues                  1   \n",
       "4         4                 24K GOLD plated rose                  1   \n",
       "\n",
       "                                       category_name brand_name  price  \\\n",
       "0                                  Men/Tops/T-shirts        NaN   10.0   \n",
       "1  Electronics/Computers & Tablets/Components & P...      Razer   52.0   \n",
       "2                        Women/Tops & Blouses/Blouse     Target   10.0   \n",
       "3                 Home/Home Décor/Home Décor Accents        NaN   35.0   \n",
       "4                            Women/Jewelry/Necklaces        NaN   44.0   \n",
       "\n",
       "   shipping                                   item_description  \n",
       "0         1                                 No description yet  \n",
       "1         0  This keyboard is in great condition and works ...  \n",
       "2         1  Adorable top with a hint of lace and a key hol...  \n",
       "3         1  New with tags. Leather horses. Retail for [rm]...  \n",
       "4         0          Complete with certificate of authenticity  "
      ]
     },
     "execution_count": 4,
     "metadata": {},
     "output_type": "execute_result"
    }
   ],
   "source": [
    "# taking a back-up of our data set\n",
    "# saving the original data\n",
    "price_data_backup=price_data.copy()\n",
    "price_data.head()"
   ]
  },
  {
   "cell_type": "code",
   "execution_count": 5,
   "metadata": {},
   "outputs": [
    {
     "data": {
      "text/plain": [
       "train_id                  0\n",
       "name                      0\n",
       "item_condition_id         0\n",
       "category_name          6327\n",
       "brand_name           632682\n",
       "price                     0\n",
       "shipping                  0\n",
       "item_description          4\n",
       "dtype: int64"
      ]
     },
     "execution_count": 5,
     "metadata": {},
     "output_type": "execute_result"
    }
   ],
   "source": [
    "# Identifying the missing values\n",
    "price_data.isnull().sum()"
   ]
  },
  {
   "cell_type": "code",
   "execution_count": 6,
   "metadata": {},
   "outputs": [
    {
     "data": {
      "text/plain": [
       "11860280"
      ]
     },
     "execution_count": 6,
     "metadata": {},
     "output_type": "execute_result"
    }
   ],
   "source": [
    "# So, as we can see there are 6327 missing values in the column category_name and 632682 missing values in the column brand_name\n",
    "# 4 missing values in the column item_description\n",
    "price_data.size"
   ]
  },
  {
   "cell_type": "code",
   "execution_count": 66,
   "metadata": {
    "collapsed": true
   },
   "outputs": [],
   "source": [
    "# There are multiple ways for imputing missing data like a constant value, mean, median, mode or a\n",
    "# value estimated from another predicted column\n",
    "\n",
    "# Here, we are dealing with missing values in text column, hence we cannot assume any text data for it \n",
    "# We will drop the missing data in this case\n",
    "\n",
    "new_price_data=price_data.dropna()"
   ]
  },
  {
   "cell_type": "code",
   "execution_count": 67,
   "metadata": {},
   "outputs": [
    {
     "data": {
      "text/plain": [
       "train_id             0\n",
       "name                 0\n",
       "item_condition_id    0\n",
       "category_name        0\n",
       "brand_name           0\n",
       "price                0\n",
       "shipping             0\n",
       "item_description     0\n",
       "dtype: int64"
      ]
     },
     "execution_count": 67,
     "metadata": {},
     "output_type": "execute_result"
    }
   ],
   "source": [
    "# Identifying the missing values after dropping the null values\n",
    "new_price_data.isnull().sum()"
   ]
  },
  {
   "cell_type": "code",
   "execution_count": 68,
   "metadata": {},
   "outputs": [
    {
     "data": {
      "text/html": [
       "<div>\n",
       "<style>\n",
       "    .dataframe thead tr:only-child th {\n",
       "        text-align: right;\n",
       "    }\n",
       "\n",
       "    .dataframe thead th {\n",
       "        text-align: left;\n",
       "    }\n",
       "\n",
       "    .dataframe tbody tr th {\n",
       "        vertical-align: top;\n",
       "    }\n",
       "</style>\n",
       "<table border=\"1\" class=\"dataframe\">\n",
       "  <thead>\n",
       "    <tr style=\"text-align: right;\">\n",
       "      <th></th>\n",
       "      <th>train_id</th>\n",
       "      <th>name</th>\n",
       "      <th>item_condition_id</th>\n",
       "      <th>category_name</th>\n",
       "      <th>brand_name</th>\n",
       "      <th>price</th>\n",
       "      <th>shipping</th>\n",
       "      <th>item_description</th>\n",
       "    </tr>\n",
       "  </thead>\n",
       "  <tbody>\n",
       "    <tr>\n",
       "      <th>1</th>\n",
       "      <td>1</td>\n",
       "      <td>Razer BlackWidow Chroma Keyboard</td>\n",
       "      <td>3</td>\n",
       "      <td>Electronics/Computers &amp; Tablets/Components &amp; P...</td>\n",
       "      <td>Razer</td>\n",
       "      <td>52.0</td>\n",
       "      <td>0</td>\n",
       "      <td>This keyboard is in great condition and works ...</td>\n",
       "    </tr>\n",
       "    <tr>\n",
       "      <th>2</th>\n",
       "      <td>2</td>\n",
       "      <td>AVA-VIV Blouse</td>\n",
       "      <td>1</td>\n",
       "      <td>Women/Tops &amp; Blouses/Blouse</td>\n",
       "      <td>Target</td>\n",
       "      <td>10.0</td>\n",
       "      <td>1</td>\n",
       "      <td>Adorable top with a hint of lace and a key hol...</td>\n",
       "    </tr>\n",
       "    <tr>\n",
       "      <th>6</th>\n",
       "      <td>6</td>\n",
       "      <td>Acacia pacific tides santorini top</td>\n",
       "      <td>3</td>\n",
       "      <td>Women/Swimwear/Two-Piece</td>\n",
       "      <td>Acacia Swimwear</td>\n",
       "      <td>64.0</td>\n",
       "      <td>0</td>\n",
       "      <td>Size small but straps slightly shortened to fi...</td>\n",
       "    </tr>\n",
       "    <tr>\n",
       "      <th>7</th>\n",
       "      <td>7</td>\n",
       "      <td>Girls cheer and tumbling bundle of 7</td>\n",
       "      <td>3</td>\n",
       "      <td>Sports &amp; Outdoors/Apparel/Girls</td>\n",
       "      <td>Soffe</td>\n",
       "      <td>6.0</td>\n",
       "      <td>1</td>\n",
       "      <td>You get three pairs of Sophie cheer shorts siz...</td>\n",
       "    </tr>\n",
       "    <tr>\n",
       "      <th>8</th>\n",
       "      <td>8</td>\n",
       "      <td>Girls Nike Pro shorts</td>\n",
       "      <td>3</td>\n",
       "      <td>Sports &amp; Outdoors/Apparel/Girls</td>\n",
       "      <td>Nike</td>\n",
       "      <td>19.0</td>\n",
       "      <td>0</td>\n",
       "      <td>Girls Size small Plus green. Three shorts total.</td>\n",
       "    </tr>\n",
       "  </tbody>\n",
       "</table>\n",
       "</div>"
      ],
      "text/plain": [
       "   train_id                                  name  item_condition_id  \\\n",
       "1         1      Razer BlackWidow Chroma Keyboard                  3   \n",
       "2         2                        AVA-VIV Blouse                  1   \n",
       "6         6    Acacia pacific tides santorini top                  3   \n",
       "7         7  Girls cheer and tumbling bundle of 7                  3   \n",
       "8         8                 Girls Nike Pro shorts                  3   \n",
       "\n",
       "                                       category_name       brand_name  price  \\\n",
       "1  Electronics/Computers & Tablets/Components & P...            Razer   52.0   \n",
       "2                        Women/Tops & Blouses/Blouse           Target   10.0   \n",
       "6                           Women/Swimwear/Two-Piece  Acacia Swimwear   64.0   \n",
       "7                    Sports & Outdoors/Apparel/Girls            Soffe    6.0   \n",
       "8                    Sports & Outdoors/Apparel/Girls             Nike   19.0   \n",
       "\n",
       "   shipping                                   item_description  \n",
       "1         0  This keyboard is in great condition and works ...  \n",
       "2         1  Adorable top with a hint of lace and a key hol...  \n",
       "6         0  Size small but straps slightly shortened to fi...  \n",
       "7         1  You get three pairs of Sophie cheer shorts siz...  \n",
       "8         0   Girls Size small Plus green. Three shorts total.  "
      ]
     },
     "execution_count": 68,
     "metadata": {},
     "output_type": "execute_result"
    }
   ],
   "source": [
    "new_price_data.head()"
   ]
  },
  {
   "cell_type": "code",
   "execution_count": 69,
   "metadata": {
    "collapsed": true
   },
   "outputs": [],
   "source": [
    "# From preliminary data analysis, there does not seem any inappropriate or bad data \n",
    "# However, if we encounter any such bad data, we will deal it before applying any machine learning algorithm"
   ]
  },
  {
   "cell_type": "code",
   "execution_count": 10,
   "metadata": {},
   "outputs": [
    {
     "data": {
      "text/plain": [
       "Text(0.5,0,'product-paramters')"
      ]
     },
     "execution_count": 10,
     "metadata": {},
     "output_type": "execute_result"
    },
    {
     "data": {
      "image/png": "[encoded data removed]",
      "text/plain": [
       "<matplotlib.figure.Figure at 0x18230dfa198>"
      ]
     },
     "metadata": {},
     "output_type": "display_data"
    }
   ],
   "source": [
    "# For identifying outliers, box plot is very suitable. Here, I am plotting box plots for all the columns and subsequenlty, I will be \n",
    "# plotting box plots for individual columns\n",
    "sns.boxplot(data=new_price_data)\n",
    "plt.xlabel('product-paramters')\n",
    "# From the below graph, it is unclear about the box plots and we cannot pick up the information, since there are lot of outliers \n",
    "# in the price column\n",
    "# We will be plotting individual box plots below"
   ]
  },
  {
   "cell_type": "code",
   "execution_count": 11,
   "metadata": {},
   "outputs": [
    {
     "data": {
      "image/png": "[encoded data removed]",
      "text/plain": [
       "<matplotlib.figure.Figure at 0x1822ad4d390>"
      ]
     },
     "metadata": {},
     "output_type": "display_data"
    }
   ],
   "source": [
    "# In our data sets, there are only three numerical categories namely price, item condition id and shipping\n",
    "# We will a box plot for these three variables \n",
    "\n",
    "%matplotlib inline\n",
    "\n",
    "import numpy as np\n",
    "import matplotlib as mlp\n",
    "import matplotlib.pyplot as plt \n",
    "\n",
    "plt.boxplot(new_price_data['price'])\n",
    "plt.show()\n",
    "\n",
    "# Its evident from the boxplot below that price contains a lot of outliers\n"
   ]
  },
  {
   "cell_type": "code",
   "execution_count": 12,
   "metadata": {},
   "outputs": [
    {
     "data": {
      "image/png": "[encoded data removed]",
      "text/plain": [
       "<matplotlib.figure.Figure at 0x182310be390>"
      ]
     },
     "metadata": {},
     "output_type": "display_data"
    }
   ],
   "source": [
    "plt.boxplot(new_price_data['item_condition_id'])\n",
    "plt.show()\n",
    "\n",
    "# The item condition id class seems to be pretty balanced\n"
   ]
  },
  {
   "cell_type": "code",
   "execution_count": 13,
   "metadata": {},
   "outputs": [
    {
     "data": {
      "image/png": "[encoded data removed]",
      "text/plain": [
       "<matplotlib.figure.Figure at 0x1823035b0f0>"
      ]
     },
     "metadata": {},
     "output_type": "display_data"
    }
   ],
   "source": [
    "plt.boxplot(new_price_data['shipping'])\n",
    "plt.show()\n"
   ]
  },
  {
   "cell_type": "code",
   "execution_count": 15,
   "metadata": {
    "collapsed": true
   },
   "outputs": [],
   "source": [
    "# Lets plot histogram for our numerical variables\n",
    "# Histogram gives us a sense of distribution of data\n",
    "# It gives an estimate for the probability distribution for the data"
   ]
  },
  {
   "cell_type": "code",
   "execution_count": 16,
   "metadata": {},
   "outputs": [
    {
     "data": {
      "text/plain": [
       "Text(0.5,0,'Price')"
      ]
     },
     "execution_count": 16,
     "metadata": {},
     "output_type": "execute_result"
    },
    {
     "data": {
      "image/png": "[encoded data removed]",
      "text/plain": [
       "<matplotlib.figure.Figure at 0x182304d2160>"
      ]
     },
     "metadata": {},
     "output_type": "display_data"
    }
   ],
   "source": [
    "# Lets plot histogram for price using the plot function (OOP style)\n",
    "new_price_data['price'].plot(kind='hist')\n",
    "plt.xlabel('Price')\n",
    "# Summary : The data is highly imbalanced. As observed the histogram in not normally distributed. It is left skewed histogram"
   ]
  },
  {
   "cell_type": "code",
   "execution_count": 17,
   "metadata": {},
   "outputs": [
    {
     "data": {
      "text/plain": [
       "Text(0.5,0,'Price')"
      ]
     },
     "execution_count": 17,
     "metadata": {},
     "output_type": "execute_result"
    },
    {
     "data": {
      "image/png": "[encoded data removed]",
      "text/plain": [
       "<matplotlib.figure.Figure at 0x1822ad3b5f8>"
      ]
     },
     "metadata": {},
     "output_type": "display_data"
    }
   ],
   "source": [
    "new_price_data['item_condition_id'].plot(kind='hist')\n",
    "plt.xlabel('Price')\n"
   ]
  },
  {
   "cell_type": "code",
   "execution_count": 18,
   "metadata": {},
   "outputs": [
    {
     "data": {
      "text/plain": [
       "<seaborn.axisgrid.PairGrid at 0x182304d8860>"
      ]
     },
     "execution_count": 18,
     "metadata": {},
     "output_type": "execute_result"
    },
    {
     "data": {
      "image/png": "[encoded data removed]",
      "text/plain": [
       "<matplotlib.figure.Figure at 0x182670e70f0>"
      ]
     },
     "metadata": {},
     "output_type": "display_data"
    }
   ],
   "source": [
    "# Using the pairplot method of sea-born for visualizaing if there exists linear relationship or no relationship between the \n",
    "# variables of the data sets\n",
    "sns.pairplot(new_price_data)\n",
    "# Here, we can conclude that no two variables of our data sets are linearly co-related"
   ]
  },
  {
   "cell_type": "code",
   "execution_count": 19,
   "metadata": {},
   "outputs": [
    {
     "data": {
      "text/html": [
       "<div>\n",
       "<style>\n",
       "    .dataframe thead tr:only-child th {\n",
       "        text-align: right;\n",
       "    }\n",
       "\n",
       "    .dataframe thead th {\n",
       "        text-align: left;\n",
       "    }\n",
       "\n",
       "    .dataframe tbody tr th {\n",
       "        vertical-align: top;\n",
       "    }\n",
       "</style>\n",
       "<table border=\"1\" class=\"dataframe\">\n",
       "  <thead>\n",
       "    <tr style=\"text-align: right;\">\n",
       "      <th></th>\n",
       "      <th>train_id</th>\n",
       "      <th>item_condition_id</th>\n",
       "      <th>price</th>\n",
       "      <th>shipping</th>\n",
       "    </tr>\n",
       "  </thead>\n",
       "  <tbody>\n",
       "    <tr>\n",
       "      <th>train_id</th>\n",
       "      <td>1.000000</td>\n",
       "      <td>0.000473</td>\n",
       "      <td>-0.000362</td>\n",
       "      <td>0.000773</td>\n",
       "    </tr>\n",
       "    <tr>\n",
       "      <th>item_condition_id</th>\n",
       "      <td>0.000473</td>\n",
       "      <td>1.000000</td>\n",
       "      <td>-0.033755</td>\n",
       "      <td>-0.130235</td>\n",
       "    </tr>\n",
       "    <tr>\n",
       "      <th>price</th>\n",
       "      <td>-0.000362</td>\n",
       "      <td>-0.033755</td>\n",
       "      <td>1.000000</td>\n",
       "      <td>-0.067786</td>\n",
       "    </tr>\n",
       "    <tr>\n",
       "      <th>shipping</th>\n",
       "      <td>0.000773</td>\n",
       "      <td>-0.130235</td>\n",
       "      <td>-0.067786</td>\n",
       "      <td>1.000000</td>\n",
       "    </tr>\n",
       "  </tbody>\n",
       "</table>\n",
       "</div>"
      ],
      "text/plain": [
       "                   train_id  item_condition_id     price  shipping\n",
       "train_id           1.000000           0.000473 -0.000362  0.000773\n",
       "item_condition_id  0.000473           1.000000 -0.033755 -0.130235\n",
       "price             -0.000362          -0.033755  1.000000 -0.067786\n",
       "shipping           0.000773          -0.130235 -0.067786  1.000000"
      ]
     },
     "execution_count": 19,
     "metadata": {},
     "output_type": "execute_result"
    }
   ],
   "source": [
    "# The dataframe.corr method computes pairwise correlation of columns, excluding NA/null values\n",
    "new_price_data.corr()\n",
    "# From the below observations, it is quite clear that there are no highly co-related values in the data-sets\n"
   ]
  },
  {
   "cell_type": "code",
   "execution_count": 20,
   "metadata": {},
   "outputs": [
    {
     "data": {
      "text/html": [
       "<div>\n",
       "<style>\n",
       "    .dataframe thead tr:only-child th {\n",
       "        text-align: right;\n",
       "    }\n",
       "\n",
       "    .dataframe thead th {\n",
       "        text-align: left;\n",
       "    }\n",
       "\n",
       "    .dataframe tbody tr th {\n",
       "        vertical-align: top;\n",
       "    }\n",
       "</style>\n",
       "<table border=\"1\" class=\"dataframe\">\n",
       "  <thead>\n",
       "    <tr style=\"text-align: right;\">\n",
       "      <th></th>\n",
       "      <th>train_id</th>\n",
       "      <th>item_condition_id</th>\n",
       "      <th>price</th>\n",
       "      <th>shipping</th>\n",
       "    </tr>\n",
       "  </thead>\n",
       "  <tbody>\n",
       "    <tr>\n",
       "      <th>train_id</th>\n",
       "      <td>1.000000</td>\n",
       "      <td>0.000473</td>\n",
       "      <td>-0.000362</td>\n",
       "      <td>0.000773</td>\n",
       "    </tr>\n",
       "    <tr>\n",
       "      <th>item_condition_id</th>\n",
       "      <td>0.000473</td>\n",
       "      <td>1.000000</td>\n",
       "      <td>-0.033755</td>\n",
       "      <td>-0.130235</td>\n",
       "    </tr>\n",
       "    <tr>\n",
       "      <th>price</th>\n",
       "      <td>-0.000362</td>\n",
       "      <td>-0.033755</td>\n",
       "      <td>1.000000</td>\n",
       "      <td>-0.067786</td>\n",
       "    </tr>\n",
       "    <tr>\n",
       "      <th>shipping</th>\n",
       "      <td>0.000773</td>\n",
       "      <td>-0.130235</td>\n",
       "      <td>-0.067786</td>\n",
       "      <td>1.000000</td>\n",
       "    </tr>\n",
       "  </tbody>\n",
       "</table>\n",
       "</div>"
      ],
      "text/plain": [
       "                   train_id  item_condition_id     price  shipping\n",
       "train_id           1.000000           0.000473 -0.000362  0.000773\n",
       "item_condition_id  0.000473           1.000000 -0.033755 -0.130235\n",
       "price             -0.000362          -0.033755  1.000000 -0.067786\n",
       "shipping           0.000773          -0.130235 -0.067786  1.000000"
      ]
     },
     "execution_count": 20,
     "metadata": {},
     "output_type": "execute_result"
    }
   ],
   "source": [
    "new_price_data.corr(method=\"pearson\")"
   ]
  },
  {
   "cell_type": "code",
   "execution_count": 21,
   "metadata": {},
   "outputs": [
    {
     "data": {
      "text/html": [
       "<div>\n",
       "<style>\n",
       "    .dataframe thead tr:only-child th {\n",
       "        text-align: right;\n",
       "    }\n",
       "\n",
       "    .dataframe thead th {\n",
       "        text-align: left;\n",
       "    }\n",
       "\n",
       "    .dataframe tbody tr th {\n",
       "        vertical-align: top;\n",
       "    }\n",
       "</style>\n",
       "<table border=\"1\" class=\"dataframe\">\n",
       "  <thead>\n",
       "    <tr style=\"text-align: right;\">\n",
       "      <th></th>\n",
       "      <th>train_id</th>\n",
       "      <th>item_condition_id</th>\n",
       "      <th>price</th>\n",
       "      <th>shipping</th>\n",
       "    </tr>\n",
       "  </thead>\n",
       "  <tbody>\n",
       "    <tr>\n",
       "      <th>train_id</th>\n",
       "      <td>1.000000</td>\n",
       "      <td>0.000451</td>\n",
       "      <td>-0.000025</td>\n",
       "      <td>0.000773</td>\n",
       "    </tr>\n",
       "    <tr>\n",
       "      <th>item_condition_id</th>\n",
       "      <td>0.000451</td>\n",
       "      <td>1.000000</td>\n",
       "      <td>-0.084965</td>\n",
       "      <td>-0.132580</td>\n",
       "    </tr>\n",
       "    <tr>\n",
       "      <th>price</th>\n",
       "      <td>-0.000025</td>\n",
       "      <td>-0.084965</td>\n",
       "      <td>1.000000</td>\n",
       "      <td>-0.181788</td>\n",
       "    </tr>\n",
       "    <tr>\n",
       "      <th>shipping</th>\n",
       "      <td>0.000773</td>\n",
       "      <td>-0.132580</td>\n",
       "      <td>-0.181788</td>\n",
       "      <td>1.000000</td>\n",
       "    </tr>\n",
       "  </tbody>\n",
       "</table>\n",
       "</div>"
      ],
      "text/plain": [
       "                   train_id  item_condition_id     price  shipping\n",
       "train_id           1.000000           0.000451 -0.000025  0.000773\n",
       "item_condition_id  0.000451           1.000000 -0.084965 -0.132580\n",
       "price             -0.000025          -0.084965  1.000000 -0.181788\n",
       "shipping           0.000773          -0.132580 -0.181788  1.000000"
      ]
     },
     "execution_count": 21,
     "metadata": {},
     "output_type": "execute_result"
    }
   ],
   "source": [
    "new_price_data.corr(method=\"spearman\")"
   ]
  },
  {
   "cell_type": "code",
   "execution_count": 22,
   "metadata": {},
   "outputs": [
    {
     "name": "stdout",
     "output_type": "stream",
     "text": [
      "<class 'pandas.core.frame.DataFrame'>\n",
      "Int64Index: 846982 entries, 1 to 1482531\n",
      "Data columns (total 8 columns):\n",
      "train_id             846982 non-null int64\n",
      "name                 846982 non-null object\n",
      "item_condition_id    846982 non-null int64\n",
      "category_name        846982 non-null object\n",
      "brand_name           846982 non-null object\n",
      "price                846982 non-null float64\n",
      "shipping             846982 non-null int64\n",
      "item_description     846982 non-null object\n",
      "dtypes: float64(1), int64(3), object(4)\n",
      "memory usage: 98.2+ MB\n"
     ]
    }
   ],
   "source": [
    "new_price_data.info()"
   ]
  },
  {
   "cell_type": "markdown",
   "metadata": {},
   "source": [
    "# Summary about EDA\n",
    "\n",
    "### The shape of the dataset before eliminating null values are 148253 * 8\n",
    "### The columns of the data set that contains null values are textual data\n",
    "### There seem to be no co-relation between the input variables\n",
    "### The histogram of the target variable prices tells us that the class is highly imbalanced and is right skewed\n",
    "### Since, the problem is to predict the price from the textual data, we can say that for processing textual data, we \n",
    "### try using NLP and TFIDF matrices\n",
    "### From Preliminary data analysis, there does not seem any bad or inappropriate value\n",
    "### The target variable contains a lot of outliers, however we cannot remove this outliers since there are numerous \n",
    "### products which can take up a range of values"
   ]
  },
  {
   "cell_type": "code",
   "execution_count": 23,
   "metadata": {
    "collapsed": true
   },
   "outputs": [],
   "source": [
    "# ------------------------------Part 2--------Data Analysis-------------------------------------------"
   ]
  },
  {
   "cell_type": "code",
   "execution_count": 24,
   "metadata": {},
   "outputs": [
    {
     "data": {
      "text/plain": [
       "<seaborn.axisgrid.PairGrid at 0x1823010d780>"
      ]
     },
     "execution_count": 24,
     "metadata": {},
     "output_type": "execute_result"
    },
    {
     "data": {
      "image/png": "[encoded data removed]",
      "text/plain": [
       "<matplotlib.figure.Figure at 0x1823010d048>"
      ]
     },
     "metadata": {},
     "output_type": "display_data"
    }
   ],
   "source": [
    "sns.pairplot(new_price_data[['price','item_condition_id']])"
   ]
  },
  {
   "cell_type": "code",
   "execution_count": 25,
   "metadata": {},
   "outputs": [
    {
     "data": {
      "text/plain": [
       "Women/Athletic Apparel/Pants, Tights, Leggings    36456\n",
       "Women/Tops & Blouses/T-Shirts                     32648\n",
       "Beauty/Makeup/Face                                24706\n",
       "Electronics/Video Games & Consoles/Games          19851\n",
       "Beauty/Makeup/Lips                                18967\n",
       "Name: category_name, dtype: int64"
      ]
     },
     "execution_count": 25,
     "metadata": {},
     "output_type": "execute_result"
    }
   ],
   "source": [
    "new_price_data['category_name'].value_counts()[:5]\n",
    "# train['category_name'].value_counts()[:5]\n"
   ]
  },
  {
   "cell_type": "code",
   "execution_count": 70,
   "metadata": {},
   "outputs": [
    {
     "data": {
      "text/html": [
       "<script>requirejs.config({paths: { 'plotly': ['https://cdn.plot.ly/plotly-latest.min']},});if(!window.Plotly) {{require(['plotly'],function(plotly) {window.Plotly=plotly;});}}</script>"
      ],
      "text/vnd.plotly.v1+html": [
       "<script>requirejs.config({paths: { 'plotly': ['https://cdn.plot.ly/plotly-latest.min']},});if(!window.Plotly) {{require(['plotly'],function(plotly) {window.Plotly=plotly;});}}</script>"
      ]
     },
     "metadata": {},
     "output_type": "display_data"
    }
   ],
   "source": [
    "import nltk\n",
    "import string\n",
    "import re\n",
    "import numpy as np\n",
    "import pandas as pd\n",
    "import pickle\n",
    "\n",
    "from collections import Counter\n",
    "from sklearn.feature_extraction.text import TfidfVectorizer\n",
    "from sklearn.feature_extraction.text import CountVectorizer\n",
    "from sklearn.decomposition import LatentDirichletAllocation\n",
    "\n",
    "\n",
    "import matplotlib.pyplot as plt\n",
    "import seaborn as sns\n",
    "sns.set(style=\"white\")\n",
    "\n",
    "from nltk.stem.porter import *\n",
    "from nltk.tokenize import word_tokenize, sent_tokenize\n",
    "from nltk.corpus import stopwords\n",
    "from sklearn.feature_extraction import stop_words\n",
    "\n",
    "import plotly.offline as py\n",
    "py.init_notebook_mode(connected=True)\n",
    "import plotly.graph_objs as go\n",
    "import plotly.tools as tls\n",
    "%matplotlib inline\n",
    "\n",
    "import bokeh.plotting as bp\n",
    "from bokeh.models import HoverTool, BoxSelectTool\n",
    "from bokeh.models import ColumnDataSource\n",
    "from bokeh.plotting import figure, show, output_notebook\n",
    "\n",
    "import warnings\n",
    "warnings.filterwarnings('ignore')\n",
    "import logging\n",
    "logging.getLogger(\"lda\").setLevel(logging.WARNING)"
   ]
  },
  {
   "cell_type": "code",
   "execution_count": 71,
   "metadata": {
    "collapsed": true
   },
   "outputs": [],
   "source": [
    "train=pd.read_csv('Datasets/train.tsv',sep='\\t')\n",
    "test=pd.read_csv('Datasets/test.tsv',sep='\\t')\n"
   ]
  },
  {
   "cell_type": "code",
   "execution_count": 72,
   "metadata": {},
   "outputs": [
    {
     "data": {
      "text/plain": [
       "(1482535, 8)"
      ]
     },
     "execution_count": 72,
     "metadata": {},
     "output_type": "execute_result"
    }
   ],
   "source": [
    "# Lets have a look at the size of the training data \n",
    "train.shape"
   ]
  },
  {
   "cell_type": "code",
   "execution_count": 73,
   "metadata": {},
   "outputs": [
    {
     "data": {
      "text/plain": [
       "train_id               int64\n",
       "name                  object\n",
       "item_condition_id      int64\n",
       "category_name         object\n",
       "brand_name            object\n",
       "price                float64\n",
       "shipping               int64\n",
       "item_description      object\n",
       "dtype: object"
      ]
     },
     "execution_count": 73,
     "metadata": {},
     "output_type": "execute_result"
    }
   ],
   "source": [
    "# Lets check the different data types in our training data set\n",
    "train.dtypes"
   ]
  },
  {
   "cell_type": "code",
   "execution_count": 5,
   "metadata": {},
   "outputs": [
    {
     "data": {
      "text/plain": [
       "Text(0.5,1,'Price Histogram')"
      ]
     },
     "execution_count": 5,
     "metadata": {},
     "output_type": "execute_result"
    },
    {
     "data": {
      "image/png": "[encoded data removed]",
      "text/plain": [
       "<matplotlib.figure.Figure at 0x20c700abf60>"
      ]
     },
     "metadata": {},
     "output_type": "display_data"
    }
   ],
   "source": [
    "# We will plot a histogram for our target variable similar to above from the EDA part\n",
    "(train['price']).plot.hist(bins=25,range=[0,300])\n",
    "plt.xlabel('price')\n",
    "plt.ylabel('frequency')\n",
    "plt.title('Price Histogram')"
   ]
  },
  {
   "cell_type": "markdown",
   "metadata": {
    "collapsed": true
   },
   "source": [
    "## The log transformation can be used to make highly skewed distribution less skewed\n",
    "## This can be valuable both for making pattern in the data more interpretable and for helping to meet assumptions of inferential statistics"
   ]
  },
  {
   "cell_type": "code",
   "execution_count": 7,
   "metadata": {},
   "outputs": [
    {
     "data": {
      "text/plain": [
       "Text(0.5,1,'Price Histogram')"
      ]
     },
     "execution_count": 7,
     "metadata": {},
     "output_type": "execute_result"
    },
    {
     "data": {
      "image/png": "[encoded data removed]",
      "text/plain": [
       "<matplotlib.figure.Figure at 0x20c274b7400>"
      ]
     },
     "metadata": {},
     "output_type": "display_data"
    }
   ],
   "source": [
    "# We will plot a histogram for our target variable similar to above from the EDA part\n",
    "np.log(train['price']+1).plot.hist(bins=25)\n",
    "# (train['price']).plot.hist(bins=25,range=[0,300])\n",
    "plt.xlabel('log(price+1)')\n",
    "plt.ylabel('frequency')\n",
    "plt.title('Price Histogram')"
   ]
  },
  {
   "cell_type": "code",
   "execution_count": 8,
   "metadata": {
    "collapsed": true
   },
   "outputs": [],
   "source": [
    "# The above figure gives us some sense of the distribution of our target variable price"
   ]
  },
  {
   "cell_type": "markdown",
   "metadata": {},
   "source": [
    "### Analysis of Shipping paramter\n",
    "\n",
    "### If the shipping paramter is 1, then the shipping fee is paid by the seller, if 0, then the shipping fee is paid by the \n",
    "### buyer\n",
    "\n",
    "### Here, we can clearly witness that the average price paid by the users who have to pay for shipping is greater ### than the price they dont have to pay shipping for \n",
    "\n",
    "### This drives us the simple conclusion that sellers have to put up a lower price to compensate the shipping price ### by user\n"
   ]
  },
  {
   "cell_type": "code",
   "execution_count": 9,
   "metadata": {},
   "outputs": [
    {
     "data": {
      "text/plain": [
       "0    0.552726\n",
       "1    0.447274\n",
       "Name: shipping, dtype: float64"
      ]
     },
     "execution_count": 9,
     "metadata": {},
     "output_type": "execute_result"
    }
   ],
   "source": [
    "train.shipping.value_counts()/len(train)\n"
   ]
  },
  {
   "cell_type": "markdown",
   "metadata": {
    "collapsed": true
   },
   "source": [
    "## Lets try to delve more into item category\n",
    "## Here, we see that there are 1287 unique categories and each category is divided into three sub categories"
   ]
  },
  {
   "cell_type": "code",
   "execution_count": 11,
   "metadata": {},
   "outputs": [
    {
     "name": "stdout",
     "output_type": "stream",
     "text": [
      "There are 1287 unique values categories\n"
     ]
    }
   ],
   "source": [
    "print(\"There are %d unique values categories\" % train['category_name'].nunique())\n"
   ]
  },
  {
   "cell_type": "code",
   "execution_count": 12,
   "metadata": {},
   "outputs": [
    {
     "data": {
      "text/plain": [
       "Women/Athletic Apparel/Pants, Tights, Leggings                 60177\n",
       "Women/Tops & Blouses/T-Shirts                                  46380\n",
       "Beauty/Makeup/Face                                             34335\n",
       "Beauty/Makeup/Lips                                             29910\n",
       "Electronics/Video Games & Consoles/Games                       26557\n",
       "Beauty/Makeup/Eyes                                             25215\n",
       "Electronics/Cell Phones & Accessories/Cases, Covers & Skins    24676\n",
       "Women/Underwear/Bras                                           21274\n",
       "Women/Tops & Blouses/Blouse                                    20284\n",
       "Women/Tops & Blouses/Tank, Cami                                20284\n",
       "Name: category_name, dtype: int64"
      ]
     },
     "execution_count": 12,
     "metadata": {},
     "output_type": "execute_result"
    }
   ],
   "source": [
    "# Lets look at the count of top categories and how the sub categories look like \n",
    "train['category_name'].value_counts()[:10]"
   ]
  },
  {
   "cell_type": "code",
   "execution_count": 13,
   "metadata": {},
   "outputs": [
    {
     "data": {
      "text/plain": [
       "6327"
      ]
     },
     "execution_count": 13,
     "metadata": {},
     "output_type": "execute_result"
    }
   ],
   "source": [
    "# Also, as seen from Part A- EDA , there are about 6327 items that do not have a category label\n",
    "\n",
    "train['category_name'].isnull().sum()"
   ]
  },
  {
   "cell_type": "code",
   "execution_count": 14,
   "metadata": {
    "collapsed": true
   },
   "outputs": [],
   "source": [
    "# To make things more simpler and to apply our further machine learning algorithms, lets separate out the categories into different columns\n"
   ]
  },
  {
   "cell_type": "code",
   "execution_count": 15,
   "metadata": {
    "collapsed": true
   },
   "outputs": [],
   "source": [
    "def split(text):\n",
    "    try: return text.split(\"/\")\n",
    "    except: return (\"None\", \"None\", \"None\")"
   ]
  },
  {
   "cell_type": "code",
   "execution_count": 74,
   "metadata": {},
   "outputs": [
    {
     "data": {
      "text/html": [
       "<div>\n",
       "<style>\n",
       "    .dataframe thead tr:only-child th {\n",
       "        text-align: right;\n",
       "    }\n",
       "\n",
       "    .dataframe thead th {\n",
       "        text-align: left;\n",
       "    }\n",
       "\n",
       "    .dataframe tbody tr th {\n",
       "        vertical-align: top;\n",
       "    }\n",
       "</style>\n",
       "<table border=\"1\" class=\"dataframe\">\n",
       "  <thead>\n",
       "    <tr style=\"text-align: right;\">\n",
       "      <th></th>\n",
       "      <th>train_id</th>\n",
       "      <th>name</th>\n",
       "      <th>item_condition_id</th>\n",
       "      <th>category_name</th>\n",
       "      <th>brand_name</th>\n",
       "      <th>price</th>\n",
       "      <th>shipping</th>\n",
       "      <th>item_description</th>\n",
       "      <th>Main_Category</th>\n",
       "      <th>Sub_Category_1</th>\n",
       "      <th>Sub_Category_2</th>\n",
       "    </tr>\n",
       "  </thead>\n",
       "  <tbody>\n",
       "    <tr>\n",
       "      <th>0</th>\n",
       "      <td>0</td>\n",
       "      <td>MLB Cincinnati Reds T Shirt Size XL</td>\n",
       "      <td>3</td>\n",
       "      <td>Men/Tops/T-shirts</td>\n",
       "      <td>NaN</td>\n",
       "      <td>10.0</td>\n",
       "      <td>1</td>\n",
       "      <td>No description yet</td>\n",
       "      <td>Men</td>\n",
       "      <td>Tops</td>\n",
       "      <td>T-shirts</td>\n",
       "    </tr>\n",
       "    <tr>\n",
       "      <th>1</th>\n",
       "      <td>1</td>\n",
       "      <td>Razer BlackWidow Chroma Keyboard</td>\n",
       "      <td>3</td>\n",
       "      <td>Electronics/Computers &amp; Tablets/Components &amp; P...</td>\n",
       "      <td>Razer</td>\n",
       "      <td>52.0</td>\n",
       "      <td>0</td>\n",
       "      <td>This keyboard is in great condition and works ...</td>\n",
       "      <td>Electronics</td>\n",
       "      <td>Computers &amp; Tablets</td>\n",
       "      <td>Components &amp; Parts</td>\n",
       "    </tr>\n",
       "    <tr>\n",
       "      <th>2</th>\n",
       "      <td>2</td>\n",
       "      <td>AVA-VIV Blouse</td>\n",
       "      <td>1</td>\n",
       "      <td>Women/Tops &amp; Blouses/Blouse</td>\n",
       "      <td>Target</td>\n",
       "      <td>10.0</td>\n",
       "      <td>1</td>\n",
       "      <td>Adorable top with a hint of lace and a key hol...</td>\n",
       "      <td>Women</td>\n",
       "      <td>Tops &amp; Blouses</td>\n",
       "      <td>Blouse</td>\n",
       "    </tr>\n",
       "    <tr>\n",
       "      <th>3</th>\n",
       "      <td>3</td>\n",
       "      <td>Leather Horse Statues</td>\n",
       "      <td>1</td>\n",
       "      <td>Home/Home Décor/Home Décor Accents</td>\n",
       "      <td>NaN</td>\n",
       "      <td>35.0</td>\n",
       "      <td>1</td>\n",
       "      <td>New with tags. Leather horses. Retail for [rm]...</td>\n",
       "      <td>Home</td>\n",
       "      <td>Home Décor</td>\n",
       "      <td>Home Décor Accents</td>\n",
       "    </tr>\n",
       "    <tr>\n",
       "      <th>4</th>\n",
       "      <td>4</td>\n",
       "      <td>24K GOLD plated rose</td>\n",
       "      <td>1</td>\n",
       "      <td>Women/Jewelry/Necklaces</td>\n",
       "      <td>NaN</td>\n",
       "      <td>44.0</td>\n",
       "      <td>0</td>\n",
       "      <td>Complete with certificate of authenticity</td>\n",
       "      <td>Women</td>\n",
       "      <td>Jewelry</td>\n",
       "      <td>Necklaces</td>\n",
       "    </tr>\n",
       "  </tbody>\n",
       "</table>\n",
       "</div>"
      ],
      "text/plain": [
       "   train_id                                 name  item_condition_id  \\\n",
       "0         0  MLB Cincinnati Reds T Shirt Size XL                  3   \n",
       "1         1     Razer BlackWidow Chroma Keyboard                  3   \n",
       "2         2                       AVA-VIV Blouse                  1   \n",
       "3         3                Leather Horse Statues                  1   \n",
       "4         4                 24K GOLD plated rose                  1   \n",
       "\n",
       "                                       category_name brand_name  price  \\\n",
       "0                                  Men/Tops/T-shirts        NaN   10.0   \n",
       "1  Electronics/Computers & Tablets/Components & P...      Razer   52.0   \n",
       "2                        Women/Tops & Blouses/Blouse     Target   10.0   \n",
       "3                 Home/Home Décor/Home Décor Accents        NaN   35.0   \n",
       "4                            Women/Jewelry/Necklaces        NaN   44.0   \n",
       "\n",
       "   shipping                                   item_description Main_Category  \\\n",
       "0         1                                 No description yet           Men   \n",
       "1         0  This keyboard is in great condition and works ...   Electronics   \n",
       "2         1  Adorable top with a hint of lace and a key hol...         Women   \n",
       "3         1  New with tags. Leather horses. Retail for [rm]...          Home   \n",
       "4         0          Complete with certificate of authenticity         Women   \n",
       "\n",
       "        Sub_Category_1      Sub_Category_2  \n",
       "0                 Tops            T-shirts  \n",
       "1  Computers & Tablets  Components & Parts  \n",
       "2       Tops & Blouses              Blouse  \n",
       "3           Home Décor  Home Décor Accents  \n",
       "4              Jewelry           Necklaces  "
      ]
     },
     "execution_count": 74,
     "metadata": {},
     "output_type": "execute_result"
    }
   ],
   "source": [
    "train['Main_Category'], train['Sub_Category_1'], train['Sub_Category_2'] = zip(*train['category_name'].apply(lambda x: split(x)))\n",
    "train.head()"
   ]
  },
  {
   "cell_type": "code",
   "execution_count": 75,
   "metadata": {},
   "outputs": [
    {
     "name": "stdout",
     "output_type": "stream",
     "text": [
      "114\n",
      "871\n"
     ]
    }
   ],
   "source": [
    "# Lets check how many unique sub categories do we have\n",
    "\n",
    "print(train['Sub_Category_1'].nunique())\n",
    "print(train['Sub_Category_2'].nunique())"
   ]
  },
  {
   "cell_type": "code",
   "execution_count": 76,
   "metadata": {},
   "outputs": [
    {
     "data": {
      "text/plain": [
       "array(['Men', 'Electronics', 'Women', 'Home', 'Sports & Outdoors',\n",
       "       'Vintage & Collectibles', 'Beauty', 'Other', 'Kids', 'None',\n",
       "       'Handmade'], dtype=object)"
      ]
     },
     "execution_count": 76,
     "metadata": {},
     "output_type": "execute_result"
    }
   ],
   "source": [
    "Main_Category = train['Main_Category'].unique()\n",
    "Main_Category"
   ]
  },
  {
   "cell_type": "code",
   "execution_count": 135,
   "metadata": {
    "collapsed": true
   },
   "outputs": [],
   "source": [
    "x = [train.loc[train['Main_Category']==category, 'price'] for category in Main_Category]\n"
   ]
  },
  {
   "cell_type": "code",
   "execution_count": 136,
   "metadata": {},
   "outputs": [
    {
     "data": {
      "text/plain": [
       "[0           10.0\n",
       " 25          66.0\n",
       " 37           6.0\n",
       " 64          36.0\n",
       " 78           9.0\n",
       " 98          49.0\n",
       " 116         51.0\n",
       " 125         60.0\n",
       " 137         66.0\n",
       " 145        250.0\n",
       " 151         14.0\n",
       " 198         54.0\n",
       " 224         22.0\n",
       " 227         14.0\n",
       " 256         10.0\n",
       " 268          7.0\n",
       " 312         18.0\n",
       " 313         26.0\n",
       " 314         12.0\n",
       " 349         40.0\n",
       " 350         33.0\n",
       " 352          9.0\n",
       " 353         18.0\n",
       " 374         12.0\n",
       " 385         23.0\n",
       " 392         25.0\n",
       " 416         10.0\n",
       " 432          7.0\n",
       " 437         41.0\n",
       " 438         61.0\n",
       "            ...  \n",
       " 1482087      9.0\n",
       " 1482118     18.0\n",
       " 1482134     30.0\n",
       " 1482140    206.0\n",
       " 1482146     22.0\n",
       " 1482153     36.0\n",
       " 1482163     21.0\n",
       " 1482164     15.0\n",
       " 1482193     18.0\n",
       " 1482197     10.0\n",
       " 1482210     17.0\n",
       " 1482227     71.0\n",
       " 1482240     16.0\n",
       " 1482272     14.0\n",
       " 1482277     34.0\n",
       " 1482284     14.0\n",
       " 1482305     16.0\n",
       " 1482330     11.0\n",
       " 1482332     24.0\n",
       " 1482361     12.0\n",
       " 1482370     10.0\n",
       " 1482371     21.0\n",
       " 1482399     25.0\n",
       " 1482423     20.0\n",
       " 1482449     49.0\n",
       " 1482453     64.0\n",
       " 1482464     11.0\n",
       " 1482470      9.0\n",
       " 1482504     25.0\n",
       " 1482529     34.0\n",
       " Name: price, Length: 93680, dtype: float64, 1           52.0\n",
       " 22         386.0\n",
       " 23           8.0\n",
       " 26          13.0\n",
       " 38         226.0\n",
       " 59          12.0\n",
       " 69           5.0\n",
       " 91          10.0\n",
       " 97           9.0\n",
       " 140         40.0\n",
       " 149        104.0\n",
       " 175          6.0\n",
       " 177          6.0\n",
       " 179          4.0\n",
       " 208          7.0\n",
       " 228         51.0\n",
       " 233         38.0\n",
       " 237         19.0\n",
       " 239         10.0\n",
       " 271         44.0\n",
       " 276        124.0\n",
       " 300          5.0\n",
       " 320         12.0\n",
       " 322          8.0\n",
       " 325         21.0\n",
       " 381          5.0\n",
       " 405         17.0\n",
       " 409         13.0\n",
       " 414          5.0\n",
       " 423         41.0\n",
       "            ...  \n",
       " 1482189      4.0\n",
       " 1482198      7.0\n",
       " 1482201     16.0\n",
       " 1482211      9.0\n",
       " 1482219      8.0\n",
       " 1482221    105.0\n",
       " 1482223     24.0\n",
       " 1482230     10.0\n",
       " 1482246      6.0\n",
       " 1482251    114.0\n",
       " 1482283     51.0\n",
       " 1482289      9.0\n",
       " 1482291      7.0\n",
       " 1482308     30.0\n",
       " 1482322     66.0\n",
       " 1482341     10.0\n",
       " 1482350     12.0\n",
       " 1482353     65.0\n",
       " 1482373      6.0\n",
       " 1482374     24.0\n",
       " 1482375    225.0\n",
       " 1482377     16.0\n",
       " 1482387    509.0\n",
       " 1482445      6.0\n",
       " 1482493     38.0\n",
       " 1482495     25.0\n",
       " 1482499    400.0\n",
       " 1482507     24.0\n",
       " 1482510      9.0\n",
       " 1482522      8.0\n",
       " Name: price, Length: 122690, dtype: float64, 2           10.0\n",
       " 4           44.0\n",
       " 5           59.0\n",
       " 6           64.0\n",
       " 12          16.0\n",
       " 14          43.0\n",
       " 19          27.0\n",
       " 20          13.0\n",
       " 21          20.0\n",
       " 24          10.0\n",
       " 27          24.0\n",
       " 28           5.0\n",
       " 29          16.0\n",
       " 31          50.0\n",
       " 32          22.0\n",
       " 35          13.0\n",
       " 36         209.0\n",
       " 39          10.0\n",
       " 41          13.0\n",
       " 45          51.0\n",
       " 47          21.0\n",
       " 48          54.0\n",
       " 50         114.0\n",
       " 53           7.0\n",
       " 60         119.0\n",
       " 61          50.0\n",
       " 62          12.0\n",
       " 63          12.0\n",
       " 66          15.0\n",
       " 67          16.0\n",
       "            ...  \n",
       " 1482456     50.0\n",
       " 1482458     11.0\n",
       " 1482459     10.0\n",
       " 1482461     45.0\n",
       " 1482467     30.0\n",
       " 1482468     14.0\n",
       " 1482472     33.0\n",
       " 1482475     33.0\n",
       " 1482479      8.0\n",
       " 1482482     31.0\n",
       " 1482485     17.0\n",
       " 1482487     31.0\n",
       " 1482491      5.0\n",
       " 1482492     15.0\n",
       " 1482497     14.0\n",
       " 1482500      8.0\n",
       " 1482503     19.0\n",
       " 1482505     34.0\n",
       " 1482508     21.0\n",
       " 1482512     34.0\n",
       " 1482515     20.0\n",
       " 1482517     11.0\n",
       " 1482519      9.0\n",
       " 1482524     26.0\n",
       " 1482525      7.0\n",
       " 1482526     12.0\n",
       " 1482527     10.0\n",
       " 1482528     18.0\n",
       " 1482530     20.0\n",
       " 1482534     22.0\n",
       " Name: price, Length: 664385, dtype: float64, 3           35.0\n",
       " 54          21.0\n",
       " 72          35.0\n",
       " 74          26.0\n",
       " 77          19.0\n",
       " 85          18.0\n",
       " 90           7.0\n",
       " 104         14.0\n",
       " 128         15.0\n",
       " 129          9.0\n",
       " 191         15.0\n",
       " 202         71.0\n",
       " 205         16.0\n",
       " 218         21.0\n",
       " 279          9.0\n",
       " 293         10.0\n",
       " 334         22.0\n",
       " 336         31.0\n",
       " 342         19.0\n",
       " 346         60.0\n",
       " 355          5.0\n",
       " 428         14.0\n",
       " 446          9.0\n",
       " 453         12.0\n",
       " 466         20.0\n",
       " 518         18.0\n",
       " 522          9.0\n",
       " 531         39.0\n",
       " 532          7.0\n",
       " 537         33.0\n",
       "            ...  \n",
       " 1482093     21.0\n",
       " 1482144     12.0\n",
       " 1482147     20.0\n",
       " 1482160     20.0\n",
       " 1482169     21.0\n",
       " 1482180     10.0\n",
       " 1482200     43.0\n",
       " 1482205     14.0\n",
       " 1482209     24.0\n",
       " 1482261     19.0\n",
       " 1482271      5.0\n",
       " 1482298      3.0\n",
       " 1482300    111.0\n",
       " 1482303     14.0\n",
       " 1482329     17.0\n",
       " 1482348     16.0\n",
       " 1482382     16.0\n",
       " 1482410     18.0\n",
       " 1482413     10.0\n",
       " 1482415     19.0\n",
       " 1482416     26.0\n",
       " 1482438     13.0\n",
       " 1482462     53.0\n",
       " 1482466     31.0\n",
       " 1482478     14.0\n",
       " 1482494     16.0\n",
       " 1482502     41.0\n",
       " 1482506    165.0\n",
       " 1482516     15.0\n",
       " 1482533     45.0\n",
       " Name: price, Length: 67871, dtype: float64, 7           6.0\n",
       " 8          19.0\n",
       " 86         39.0\n",
       " 93         10.0\n",
       " 189        46.0\n",
       " 229        13.0\n",
       " 262        15.0\n",
       " 285        13.0\n",
       " 367        40.0\n",
       " 424        60.0\n",
       " 574         9.0\n",
       " 646        14.0\n",
       " 664        10.0\n",
       " 686        40.0\n",
       " 725         9.0\n",
       " 860        45.0\n",
       " 895        16.0\n",
       " 928        36.0\n",
       " 954        24.0\n",
       " 975        15.0\n",
       " 1077       12.0\n",
       " 1178       22.0\n",
       " 1267       49.0\n",
       " 1324       34.0\n",
       " 1325        0.0\n",
       " 1338       12.0\n",
       " 1456       38.0\n",
       " 1569       40.0\n",
       " 1589       32.0\n",
       " 1629        8.0\n",
       "            ... \n",
       " 1481368    16.0\n",
       " 1481590    34.0\n",
       " 1481650     7.0\n",
       " 1481668    10.0\n",
       " 1481722    12.0\n",
       " 1481762    20.0\n",
       " 1481795     9.0\n",
       " 1481820    56.0\n",
       " 1481835    20.0\n",
       " 1481855    54.0\n",
       " 1481901    12.0\n",
       " 1482090    10.0\n",
       " 1482092     6.0\n",
       " 1482094    18.0\n",
       " 1482095    54.0\n",
       " 1482113    30.0\n",
       " 1482176     3.0\n",
       " 1482183     9.0\n",
       " 1482266    21.0\n",
       " 1482268    14.0\n",
       " 1482285    22.0\n",
       " 1482352    15.0\n",
       " 1482376    16.0\n",
       " 1482442    22.0\n",
       " 1482448    18.0\n",
       " 1482463    10.0\n",
       " 1482474    35.0\n",
       " 1482477    39.0\n",
       " 1482509    95.0\n",
       " 1482532    12.0\n",
       " Name: price, Length: 25342, dtype: float64, 9            8.0\n",
       " 44          12.0\n",
       " 52          28.0\n",
       " 55           5.0\n",
       " 88           3.0\n",
       " 132         10.0\n",
       " 148         34.0\n",
       " 158         29.0\n",
       " 170         16.0\n",
       " 194         30.0\n",
       " 211          6.0\n",
       " 216        470.0\n",
       " 240          3.0\n",
       " 263         18.0\n",
       " 321         10.0\n",
       " 403         51.0\n",
       " 413        100.0\n",
       " 527          5.0\n",
       " 528          3.0\n",
       " 567         19.0\n",
       " 710         18.0\n",
       " 737         36.0\n",
       " 746         20.0\n",
       " 803         20.0\n",
       " 806        100.0\n",
       " 826         30.0\n",
       " 844          3.0\n",
       " 876          8.0\n",
       " 902         27.0\n",
       " 911          5.0\n",
       "            ...  \n",
       " 1481703      8.0\n",
       " 1481705     14.0\n",
       " 1481734     26.0\n",
       " 1481755     14.0\n",
       " 1481761     22.0\n",
       " 1481838     12.0\n",
       " 1481843      3.0\n",
       " 1481916     10.0\n",
       " 1481975     10.0\n",
       " 1481976     18.0\n",
       " 1482011     24.0\n",
       " 1482129     24.0\n",
       " 1482137      9.0\n",
       " 1482142      3.0\n",
       " 1482207     12.0\n",
       " 1482260      4.0\n",
       " 1482302     11.0\n",
       " 1482309     19.0\n",
       " 1482313     80.0\n",
       " 1482358     45.0\n",
       " 1482385     35.0\n",
       " 1482394     15.0\n",
       " 1482398      3.0\n",
       " 1482406     19.0\n",
       " 1482427     12.0\n",
       " 1482429     26.0\n",
       " 1482465     12.0\n",
       " 1482488     11.0\n",
       " 1482513      5.0\n",
       " 1482518     10.0\n",
       " Name: price, Length: 46530, dtype: float64, 10           8.0\n",
       " 11          34.0\n",
       " 15          11.0\n",
       " 16           6.0\n",
       " 18          25.0\n",
       " 30          32.0\n",
       " 33          10.0\n",
       " 40          20.0\n",
       " 42          14.0\n",
       " 43          12.0\n",
       " 49           9.0\n",
       " 56          14.0\n",
       " 81          14.0\n",
       " 82           9.0\n",
       " 83           6.0\n",
       " 96          81.0\n",
       " 112         12.0\n",
       " 113         10.0\n",
       " 117          5.0\n",
       " 118         16.0\n",
       " 133         21.0\n",
       " 135         39.0\n",
       " 139         21.0\n",
       " 157        150.0\n",
       " 163         20.0\n",
       " 165         10.0\n",
       " 166         12.0\n",
       " 167          7.0\n",
       " 174         20.0\n",
       " 187         14.0\n",
       "            ...  \n",
       " 1482366     12.0\n",
       " 1482369      3.0\n",
       " 1482372     10.0\n",
       " 1482381     40.0\n",
       " 1482384      9.0\n",
       " 1482386      7.0\n",
       " 1482401     36.0\n",
       " 1482407     16.0\n",
       " 1482411     27.0\n",
       " 1482412      6.0\n",
       " 1482418     12.0\n",
       " 1482434     14.0\n",
       " 1482437     16.0\n",
       " 1482439     19.0\n",
       " 1482444      8.0\n",
       " 1482446     10.0\n",
       " 1482447      3.0\n",
       " 1482457     22.0\n",
       " 1482476      8.0\n",
       " 1482480     19.0\n",
       " 1482481     10.0\n",
       " 1482483      9.0\n",
       " 1482484     20.0\n",
       " 1482489     13.0\n",
       " 1482496      8.0\n",
       " 1482498     27.0\n",
       " 1482501     38.0\n",
       " 1482511      5.0\n",
       " 1482521      9.0\n",
       " 1482523      8.0\n",
       " Name: price, Length: 207828, dtype: float64, 13           4.0\n",
       " 121         16.0\n",
       " 144         13.0\n",
       " 159         23.0\n",
       " 176         11.0\n",
       " 261         40.0\n",
       " 264        650.0\n",
       " 290         81.0\n",
       " 338         11.0\n",
       " 380         28.0\n",
       " 412         59.0\n",
       " 417          5.0\n",
       " 444          3.0\n",
       " 452         24.0\n",
       " 480         15.0\n",
       " 517         49.0\n",
       " 538          9.0\n",
       " 551          8.0\n",
       " 564         12.0\n",
       " 570         26.0\n",
       " 593         10.0\n",
       " 607         10.0\n",
       " 625         60.0\n",
       " 699         10.0\n",
       " 707         10.0\n",
       " 730         44.0\n",
       " 747         10.0\n",
       " 760         12.0\n",
       " 788         10.0\n",
       " 807         26.0\n",
       "            ...  \n",
       " 1481313      6.0\n",
       " 1481359     15.0\n",
       " 1481370     10.0\n",
       " 1481373      6.0\n",
       " 1481585     14.0\n",
       " 1481602     10.0\n",
       " 1481631     18.0\n",
       " 1481720      9.0\n",
       " 1481727     10.0\n",
       " 1481781      5.0\n",
       " 1481824     15.0\n",
       " 1481893      5.0\n",
       " 1481904      9.0\n",
       " 1481922     22.0\n",
       " 1481959      4.0\n",
       " 1482003      9.0\n",
       " 1482038      8.0\n",
       " 1482084     17.0\n",
       " 1482120      8.0\n",
       " 1482148      9.0\n",
       " 1482171     20.0\n",
       " 1482175      7.0\n",
       " 1482249      6.0\n",
       " 1482336     11.0\n",
       " 1482342      3.0\n",
       " 1482397     15.0\n",
       " 1482414     39.0\n",
       " 1482440     26.0\n",
       " 1482455     27.0\n",
       " 1482471     34.0\n",
       " Name: price, Length: 45351, dtype: float64, 17          29.0\n",
       " 34           5.0\n",
       " 46           8.0\n",
       " 51          36.0\n",
       " 57           7.0\n",
       " 58          10.0\n",
       " 65          13.0\n",
       " 73          14.0\n",
       " 75          12.0\n",
       " 79          14.0\n",
       " 87          34.0\n",
       " 89          28.0\n",
       " 94         150.0\n",
       " 95           9.0\n",
       " 103         36.0\n",
       " 138          7.0\n",
       " 142         16.0\n",
       " 154          7.0\n",
       " 161         12.0\n",
       " 171         91.0\n",
       " 172         10.0\n",
       " 183          8.0\n",
       " 188         30.0\n",
       " 201          9.0\n",
       " 209         22.0\n",
       " 210         14.0\n",
       " 220          9.0\n",
       " 234         56.0\n",
       " 238         10.0\n",
       " 246          7.0\n",
       "            ...  \n",
       " 1482243     31.0\n",
       " 1482256      7.0\n",
       " 1482270     26.0\n",
       " 1482275     60.0\n",
       " 1482278     35.0\n",
       " 1482279     10.0\n",
       " 1482286      8.0\n",
       " 1482292     20.0\n",
       " 1482301     14.0\n",
       " 1482312     36.0\n",
       " 1482320    116.0\n",
       " 1482324      8.0\n",
       " 1482331     11.0\n",
       " 1482338      7.0\n",
       " 1482340     26.0\n",
       " 1482343     12.0\n",
       " 1482354     20.0\n",
       " 1482362     22.0\n",
       " 1482378     22.0\n",
       " 1482379     14.0\n",
       " 1482392     16.0\n",
       " 1482417     14.0\n",
       " 1482430     14.0\n",
       " 1482431     26.0\n",
       " 1482460      6.0\n",
       " 1482469      5.0\n",
       " 1482486     12.0\n",
       " 1482490     71.0\n",
       " 1482520     18.0\n",
       " 1482531     14.0\n",
       " Name: price, Length: 171689, dtype: float64, 122         59.0\n",
       " 155         10.0\n",
       " 258         14.0\n",
       " 984         18.0\n",
       " 1185         9.0\n",
       " 1274        15.0\n",
       " 1320        12.0\n",
       " 1419        34.0\n",
       " 1491         3.0\n",
       " 1521         3.0\n",
       " 1739         5.0\n",
       " 2076        96.0\n",
       " 2195         8.0\n",
       " 2299        21.0\n",
       " 2620         8.0\n",
       " 2782        21.0\n",
       " 2838        30.0\n",
       " 3128        22.0\n",
       " 3851        20.0\n",
       " 3916        16.0\n",
       " 4194       158.0\n",
       " 4209        29.0\n",
       " 4862        13.0\n",
       " 5146         6.0\n",
       " 5163        20.0\n",
       " 5343         9.0\n",
       " 5627         6.0\n",
       " 6147        14.0\n",
       " 6348         6.0\n",
       " 6886        18.0\n",
       "            ...  \n",
       " 1474220     31.0\n",
       " 1474923     19.0\n",
       " 1475747     20.0\n",
       " 1475847     14.0\n",
       " 1476120     41.0\n",
       " 1476662     86.0\n",
       " 1476668     19.0\n",
       " 1477396     50.0\n",
       " 1477873     40.0\n",
       " 1477900     31.0\n",
       " 1478078     81.0\n",
       " 1478247     35.0\n",
       " 1478454     24.0\n",
       " 1478898     14.0\n",
       " 1478923     33.0\n",
       " 1479117     38.0\n",
       " 1479167     24.0\n",
       " 1479245     13.0\n",
       " 1480098     14.0\n",
       " 1480224     50.0\n",
       " 1480241     21.0\n",
       " 1480798      7.0\n",
       " 1480949      3.0\n",
       " 1480995     13.0\n",
       " 1481003     45.0\n",
       " 1481249     31.0\n",
       " 1481750     17.0\n",
       " 1482252     40.0\n",
       " 1482443     22.0\n",
       " 1482473     30.0\n",
       " Name: price, Length: 6327, dtype: float64, 185         39.0\n",
       " 215         70.0\n",
       " 297         18.0\n",
       " 425         22.0\n",
       " 442          7.0\n",
       " 470         10.0\n",
       " 530         79.0\n",
       " 769         37.0\n",
       " 773         55.0\n",
       " 808         90.0\n",
       " 828          8.0\n",
       " 879         20.0\n",
       " 903         15.0\n",
       " 904          3.0\n",
       " 1057        26.0\n",
       " 1097         3.0\n",
       " 1106         6.0\n",
       " 1127         7.0\n",
       " 1277        29.0\n",
       " 1309        12.0\n",
       " 1318        21.0\n",
       " 1329         3.0\n",
       " 1436         9.0\n",
       " 1494         8.0\n",
       " 1606         6.0\n",
       " 1623        27.0\n",
       " 1634         9.0\n",
       " 1674        32.0\n",
       " 1709        46.0\n",
       " 1745       144.0\n",
       "            ...  \n",
       " 1480880     57.0\n",
       " 1480922      8.0\n",
       " 1480927     46.0\n",
       " 1480983      7.0\n",
       " 1480985    126.0\n",
       " 1480997     20.0\n",
       " 1481078     27.0\n",
       " 1481092      5.0\n",
       " 1481254      4.0\n",
       " 1481267      5.0\n",
       " 1481286     15.0\n",
       " 1481469     13.0\n",
       " 1481496      4.0\n",
       " 1481507      7.0\n",
       " 1481509     14.0\n",
       " 1481531      8.0\n",
       " 1481541     64.0\n",
       " 1481543     26.0\n",
       " 1481582     36.0\n",
       " 1481639     14.0\n",
       " 1481679     22.0\n",
       " 1481715     10.0\n",
       " 1481906      4.0\n",
       " 1481969     25.0\n",
       " 1482075     12.0\n",
       " 1482080     10.0\n",
       " 1482125      5.0\n",
       " 1482244      7.0\n",
       " 1482281     40.0\n",
       " 1482514     23.0\n",
       " Name: price, Length: 30842, dtype: float64]"
      ]
     },
     "execution_count": 136,
     "metadata": {},
     "output_type": "execute_result"
    }
   ],
   "source": [
    "x"
   ]
  },
  {
   "cell_type": "code",
   "execution_count": 79,
   "metadata": {
    "collapsed": true
   },
   "outputs": [],
   "source": [
    "def wordCount(text):\n",
    "    try:\n",
    "#         making all the text to lowercase\n",
    "        text = text.lower()\n",
    "#     defining the pattern for regex\n",
    "        regex = re.compile('[' +re.escape(string.punctuation) + '0-9\\\\r\\\\t\\\\n]')\n",
    "        txt = regex.sub(\" \", text)\n",
    "#         get only those sentences whose length are greater than 3\n",
    "        words = [w for w in txt.split(\" \") if not w in stop_words.ENGLISH_STOP_WORDS and len(w)>3]\n",
    "        return len(words)\n",
    "    except: \n",
    "        return 0"
   ]
  },
  {
   "cell_type": "code",
   "execution_count": 80,
   "metadata": {
    "collapsed": true
   },
   "outputs": [],
   "source": [
    "train['descritption_length'] = train['item_description'].apply(lambda x: wordCount(x))\n"
   ]
  },
  {
   "cell_type": "code",
   "execution_count": 81,
   "metadata": {
    "collapsed": true
   },
   "outputs": [],
   "source": [
    "df = train.groupby('descritption_length')['price'].mean().reset_index()\n"
   ]
  },
  {
   "cell_type": "code",
   "execution_count": 114,
   "metadata": {},
   "outputs": [
    {
     "data": {
      "application/vnd.plotly.v1+json": {
       "data": [
        {
         "mode": "lines+markers",
         "name": "lines+markers",
         "type": "scatter",
         "x": [
          0,
          1,
          2,
          3,
          4,
          5,
          6,
          7,
          8,
          9,
          10,
          11,
          12,
          13,
          14,
          15,
          16,
          17,
          18,
          19,
          20,
          21,
          22,
          23,
          24,
          25,
          26,
          27,
          28,
          29,
          30,
          31,
          32,
          33,
          34,
          35,
          36,
          37,
          38,
          39,
          40,
          41,
          42,
          43,
          44,
          45,
          46,
          47,
          48,
          49,
          50,
          51,
          52,
          53,
          54,
          55,
          56,
          57,
          58,
          59,
          60,
          61,
          62,
          63,
          64,
          65,
          66,
          67,
          68,
          69,
          70,
          71,
          72,
          73,
          74,
          75,
          76,
          77,
          78,
          79,
          80,
          81,
          82,
          83,
          84,
          85,
          86,
          87,
          88,
          89,
          90,
          91,
          92,
          93,
          94,
          95,
          96,
          97,
          98,
          99,
          100,
          101,
          102,
          103,
          104,
          105,
          106,
          107,
          108,
          109,
          110,
          111,
          112,
          113,
          114,
          115,
          116,
          117,
          118,
          119,
          120,
          121,
          122,
          123,
          124,
          125,
          126,
          127,
          128,
          129,
          130,
          131,
          132,
          133,
          134,
          135,
          136
         ],
         "y": [
          3.173063148538338,
          3.162246205219352,
          3.2194287159207637,
          3.2197187839837524,
          3.229335830547212,
          3.248775751247197,
          3.273429751865691,
          3.274343349232063,
          3.3021798590304527,
          3.31683596497692,
          3.3285188148166043,
          3.3451830437388725,
          3.362794730994268,
          3.371744957482384,
          3.3925825353734846,
          3.3980618965167984,
          3.412646511705851,
          3.4269412757490247,
          3.4349549790245635,
          3.449108326031354,
          3.4288840054313834,
          3.4480763749290015,
          3.4716062903255676,
          3.481187334539434,
          3.4578711096889694,
          3.4982931800187678,
          3.496076541268169,
          3.5296160126906257,
          3.5231379749229195,
          3.4754079710963484,
          3.4951380646297627,
          3.5123250406784683,
          3.4714195317515952,
          3.489164575077565,
          3.4962539050072805,
          3.5155464879190865,
          3.484149099130982,
          3.463025845762336,
          3.541714889485493,
          3.5136347294145924,
          3.4876360414510357,
          3.497290633784809,
          3.4762980858758237,
          3.421735401307668,
          3.4080580526054822,
          3.4173708598420074,
          3.4758239083806535,
          3.4406645334434125,
          3.43563782384203,
          3.3962335671423562,
          3.462298774773955,
          3.491580290866386,
          3.3842585596262706,
          3.4653157147933005,
          3.396719545544894,
          3.396644340090567,
          3.4283887534496404,
          3.3861476730696993,
          3.3769926283324505,
          3.4062292637621336,
          3.4097429295828556,
          3.4076177525419817,
          3.245986379759736,
          3.3537237524409305,
          3.3270373371467743,
          3.3794294958780666,
          3.280577381700093,
          3.314028416498586,
          3.227108667317176,
          3.2859978638537455,
          3.279755929976556,
          3.3829181217543383,
          3.3658002748291613,
          3.353658308614718,
          3.3537652692817814,
          3.3395475179954297,
          3.3326638508762723,
          3.3112094052114163,
          3.2832484503965413,
          3.2216442664228073,
          3.2849412358282084,
          3.282046223052218,
          3.2644984222459854,
          3.237021999905555,
          3.2942940332837582,
          3.310339764803362,
          3.334262829941358,
          3.290075591022677,
          3.23831188324532,
          3.3283584452117383,
          3.238871931897982,
          3.161495933216655,
          3.230230471029394,
          3.401353717158448,
          3.22341258745215,
          3.1155824469616915,
          3.3352251535191253,
          3.2724723471417887,
          3.2231641375589772,
          3.344934924876206,
          3.475505502347824,
          3.2823560939468397,
          3.4279081584087643,
          3.611803652294692,
          3.3456976419846223,
          3.379123170423708,
          3.5930518991148337,
          3.3177324775666697,
          3.4671136297685132,
          3.454598158389271,
          3.4523128824675857,
          3.740839193044647,
          3.264486336120253,
          3.3626875269002796,
          3.461978853922014,
          3.6609942506244004,
          3.420702876286412,
          3.7376696182833684,
          3.2811797082043554,
          3.5134903340956267,
          3.0845277723371223,
          3.2208738275308737,
          3.817712325956905,
          3.3081069585961433,
          2.909932283750658,
          3.1179499062782403,
          2.833213344056216,
          2.515678308454754,
          3.2217288938506075,
          2.8526314299133175,
          2.8716796248840124,
          3.713572066704308,
          2.7343675094195836,
          3.056356895370426,
          3.2121868367174042,
          2.8791984572980396,
          2.9444389791664403
         ]
        }
       ],
       "layout": {
        "title": "Mean Log(Price) by Description Length",
        "xaxis": {
         "title": "Length of the description"
        },
        "yaxis": {
         "title": "Mean Log(Price)"
        }
       }
      },
      "text/html": [
       "<div id=\"2d64c101-909f-4f77-a732-9f69d3d4668f\" style=\"height: 525px; width: 100%;\" class=\"plotly-graph-div\"></div><script type=\"text/javascript\">require([\"plotly\"], function(Plotly) { window.PLOTLYENV=window.PLOTLYENV || {};window.PLOTLYENV.BASE_URL=\"https://plot.ly\";Plotly.newPlot(\"2d64c101-909f-4f77-a732-9f69d3d4668f\", [{\"type\": \"scatter\", \"x\": [0, 1, 2, 3, 4, 5, 6, 7, 8, 9, 10, 11, 12, 13, 14, 15, 16, 17, 18, 19, 20, 21, 22, 23, 24, 25, 26, 27, 28, 29, 30, 31, 32, 33, 34, 35, 36, 37, 38, 39, 40, 41, 42, 43, 44, 45, 46, 47, 48, 49, 50, 51, 52, 53, 54, 55, 56, 57, 58, 59, 60, 61, 62, 63, 64, 65, 66, 67, 68, 69, 70, 71, 72, 73, 74, 75, 76, 77, 78, 79, 80, 81, 82, 83, 84, 85, 86, 87, 88, 89, 90, 91, 92, 93, 94, 95, 96, 97, 98, 99, 100, 101, 102, 103, 104, 105, 106, 107, 108, 109, 110, 111, 112, 113, 114, 115, 116, 117, 118, 119, 120, 121, 122, 123, 124, 125, 126, 127, 128, 129, 130, 131, 132, 133, 134, 135, 136], \"y\": [3.173063148538338, 3.162246205219352, 3.2194287159207637, 3.2197187839837524, 3.229335830547212, 3.248775751247197, 3.273429751865691, 3.274343349232063, 3.3021798590304527, 3.31683596497692, 3.3285188148166043, 3.3451830437388725, 3.362794730994268, 3.371744957482384, 3.3925825353734846, 3.3980618965167984, 3.412646511705851, 3.4269412757490247, 3.4349549790245635, 3.449108326031354, 3.4288840054313834, 3.4480763749290015, 3.4716062903255676, 3.481187334539434, 3.4578711096889694, 3.4982931800187678, 3.496076541268169, 3.5296160126906257, 3.5231379749229195, 3.4754079710963484, 3.4951380646297627, 3.5123250406784683, 3.4714195317515952, 3.489164575077565, 3.4962539050072805, 3.5155464879190865, 3.484149099130982, 3.463025845762336, 3.541714889485493, 3.5136347294145924, 3.4876360414510357, 3.497290633784809, 3.4762980858758237, 3.421735401307668, 3.4080580526054822, 3.4173708598420074, 3.4758239083806535, 3.4406645334434125, 3.43563782384203, 3.3962335671423562, 3.462298774773955, 3.491580290866386, 3.3842585596262706, 3.4653157147933005, 3.396719545544894, 3.396644340090567, 3.4283887534496404, 3.3861476730696993, 3.3769926283324505, 3.4062292637621336, 3.4097429295828556, 3.4076177525419817, 3.245986379759736, 3.3537237524409305, 3.3270373371467743, 3.3794294958780666, 3.280577381700093, 3.314028416498586, 3.227108667317176, 3.2859978638537455, 3.279755929976556, 3.3829181217543383, 3.3658002748291613, 3.353658308614718, 3.3537652692817814, 3.3395475179954297, 3.3326638508762723, 3.3112094052114163, 3.2832484503965413, 3.2216442664228073, 3.2849412358282084, 3.282046223052218, 3.2644984222459854, 3.237021999905555, 3.2942940332837582, 3.310339764803362, 3.334262829941358, 3.290075591022677, 3.23831188324532, 3.3283584452117383, 3.238871931897982, 3.161495933216655, 3.230230471029394, 3.401353717158448, 3.22341258745215, 3.1155824469616915, 3.3352251535191253, 3.2724723471417887, 3.2231641375589772, 3.344934924876206, 3.475505502347824, 3.2823560939468397, 3.4279081584087643, 3.611803652294692, 3.3456976419846223, 3.379123170423708, 3.5930518991148337, 3.3177324775666697, 3.4671136297685132, 3.454598158389271, 3.4523128824675857, 3.740839193044647, 3.264486336120253, 3.3626875269002796, 3.461978853922014, 3.6609942506244004, 3.420702876286412, 3.7376696182833684, 3.2811797082043554, 3.5134903340956267, 3.0845277723371223, 3.2208738275308737, 3.817712325956905, 3.3081069585961433, 2.909932283750658, 3.1179499062782403, 2.833213344056216, 2.515678308454754, 3.2217288938506075, 2.8526314299133175, 2.8716796248840124, 3.713572066704308, 2.7343675094195836, 3.056356895370426, 3.2121868367174042, 2.8791984572980396, 2.9444389791664403], \"mode\": \"lines+markers\", \"name\": \"lines+markers\"}], {\"title\": \"Mean Log(Price) by Description Length\", \"yaxis\": {\"title\": \"Mean Log(Price)\"}, \"xaxis\": {\"title\": \"Length of the description\"}}, {\"showLink\": true, \"linkText\": \"Export to plot.ly\"})});</script>"
      ],
      "text/vnd.plotly.v1+html": [
       "<div id=\"2d64c101-909f-4f77-a732-9f69d3d4668f\" style=\"height: 525px; width: 100%;\" class=\"plotly-graph-div\"></div><script type=\"text/javascript\">require([\"plotly\"], function(Plotly) { window.PLOTLYENV=window.PLOTLYENV || {};window.PLOTLYENV.BASE_URL=\"https://plot.ly\";Plotly.newPlot(\"2d64c101-909f-4f77-a732-9f69d3d4668f\", [{\"type\": \"scatter\", \"x\": [0, 1, 2, 3, 4, 5, 6, 7, 8, 9, 10, 11, 12, 13, 14, 15, 16, 17, 18, 19, 20, 21, 22, 23, 24, 25, 26, 27, 28, 29, 30, 31, 32, 33, 34, 35, 36, 37, 38, 39, 40, 41, 42, 43, 44, 45, 46, 47, 48, 49, 50, 51, 52, 53, 54, 55, 56, 57, 58, 59, 60, 61, 62, 63, 64, 65, 66, 67, 68, 69, 70, 71, 72, 73, 74, 75, 76, 77, 78, 79, 80, 81, 82, 83, 84, 85, 86, 87, 88, 89, 90, 91, 92, 93, 94, 95, 96, 97, 98, 99, 100, 101, 102, 103, 104, 105, 106, 107, 108, 109, 110, 111, 112, 113, 114, 115, 116, 117, 118, 119, 120, 121, 122, 123, 124, 125, 126, 127, 128, 129, 130, 131, 132, 133, 134, 135, 136], \"y\": [3.173063148538338, 3.162246205219352, 3.2194287159207637, 3.2197187839837524, 3.229335830547212, 3.248775751247197, 3.273429751865691, 3.274343349232063, 3.3021798590304527, 3.31683596497692, 3.3285188148166043, 3.3451830437388725, 3.362794730994268, 3.371744957482384, 3.3925825353734846, 3.3980618965167984, 3.412646511705851, 3.4269412757490247, 3.4349549790245635, 3.449108326031354, 3.4288840054313834, 3.4480763749290015, 3.4716062903255676, 3.481187334539434, 3.4578711096889694, 3.4982931800187678, 3.496076541268169, 3.5296160126906257, 3.5231379749229195, 3.4754079710963484, 3.4951380646297627, 3.5123250406784683, 3.4714195317515952, 3.489164575077565, 3.4962539050072805, 3.5155464879190865, 3.484149099130982, 3.463025845762336, 3.541714889485493, 3.5136347294145924, 3.4876360414510357, 3.497290633784809, 3.4762980858758237, 3.421735401307668, 3.4080580526054822, 3.4173708598420074, 3.4758239083806535, 3.4406645334434125, 3.43563782384203, 3.3962335671423562, 3.462298774773955, 3.491580290866386, 3.3842585596262706, 3.4653157147933005, 3.396719545544894, 3.396644340090567, 3.4283887534496404, 3.3861476730696993, 3.3769926283324505, 3.4062292637621336, 3.4097429295828556, 3.4076177525419817, 3.245986379759736, 3.3537237524409305, 3.3270373371467743, 3.3794294958780666, 3.280577381700093, 3.314028416498586, 3.227108667317176, 3.2859978638537455, 3.279755929976556, 3.3829181217543383, 3.3658002748291613, 3.353658308614718, 3.3537652692817814, 3.3395475179954297, 3.3326638508762723, 3.3112094052114163, 3.2832484503965413, 3.2216442664228073, 3.2849412358282084, 3.282046223052218, 3.2644984222459854, 3.237021999905555, 3.2942940332837582, 3.310339764803362, 3.334262829941358, 3.290075591022677, 3.23831188324532, 3.3283584452117383, 3.238871931897982, 3.161495933216655, 3.230230471029394, 3.401353717158448, 3.22341258745215, 3.1155824469616915, 3.3352251535191253, 3.2724723471417887, 3.2231641375589772, 3.344934924876206, 3.475505502347824, 3.2823560939468397, 3.4279081584087643, 3.611803652294692, 3.3456976419846223, 3.379123170423708, 3.5930518991148337, 3.3177324775666697, 3.4671136297685132, 3.454598158389271, 3.4523128824675857, 3.740839193044647, 3.264486336120253, 3.3626875269002796, 3.461978853922014, 3.6609942506244004, 3.420702876286412, 3.7376696182833684, 3.2811797082043554, 3.5134903340956267, 3.0845277723371223, 3.2208738275308737, 3.817712325956905, 3.3081069585961433, 2.909932283750658, 3.1179499062782403, 2.833213344056216, 2.515678308454754, 3.2217288938506075, 2.8526314299133175, 2.8716796248840124, 3.713572066704308, 2.7343675094195836, 3.056356895370426, 3.2121868367174042, 2.8791984572980396, 2.9444389791664403], \"mode\": \"lines+markers\", \"name\": \"lines+markers\"}], {\"title\": \"Mean Log(Price) by Description Length\", \"yaxis\": {\"title\": \"Mean Log(Price)\"}, \"xaxis\": {\"title\": \"Length of the description\"}}, {\"showLink\": true, \"linkText\": \"Export to plot.ly\"})});</script>"
      ]
     },
     "metadata": {},
     "output_type": "display_data"
    }
   ],
   "source": [
    "trace1 = go.Scatter(\n",
    "    x = df['descritption_length'],\n",
    "    y = np.log(df['price']+1),\n",
    "    mode = 'lines+markers',\n",
    "    name = 'lines+markers'\n",
    ")\n",
    "layout = dict(title= 'Mean Log(Price) by Description Length',\n",
    "              yaxis = dict(title='Mean Log(Price)'),\n",
    "              xaxis = dict(title='Length of the description'))\n",
    "fig=dict(data=[trace1], layout=layout)\n",
    "py.iplot(fig)"
   ]
  },
  {
   "cell_type": "markdown",
   "metadata": {},
   "source": [
    "### This part of our analysis will include how the description of the product influences the price of the product.\n",
    "### Here, we will take help of natural language processing to process text data and visualization library to show   interesting findings like how the length of the description affects the price "
   ]
  },
  {
   "cell_type": "code",
   "execution_count": 83,
   "metadata": {
    "collapsed": true
   },
   "outputs": [],
   "source": [
    "stop = set(stopwords.words('english'))\n",
    "def tokenize(text):\n",
    "    \n",
    "    try: \n",
    "        regex = re.compile('[' +re.escape(string.punctuation) + '0-9\\\\r\\\\t\\\\n]')\n",
    "        text = regex.sub(\" \", text) # remove punctuation\n",
    "#         sent_tokenize segments the text into sentences\n",
    "        tokens_ = [word_tokenize(s) for s in sent_tokenize(text)]\n",
    "        tokens = []\n",
    "        for token_by_sent in tokens_:\n",
    "            tokens += token_by_sent\n",
    "        tokens = list(filter(lambda t: t.lower() not in stop, tokens))\n",
    "        filtered_tokens = [w for w in tokens if re.search('[a-zA-Z]', w)]\n",
    "        filtered_tokens = [w.lower() for w in filtered_tokens if len(w)>=3]\n",
    "        \n",
    "        return filtered_tokens\n",
    "            \n",
    "    except TypeError as e: print(text,e)"
   ]
  },
  {
   "cell_type": "markdown",
   "metadata": {},
   "source": [
    "## Since, we are dealing with text data and are supposed to find out price based on this text data, it makes a lot of sense for us to find which words carry how much weightage.  Major part of our analysis will include text pre-processing and finding the term frequency and inverse term frequency of our data-sets."
   ]
  },
  {
   "cell_type": "code",
   "execution_count": 120,
   "metadata": {
    "collapsed": true
   },
   "outputs": [],
   "source": [
    "from sklearn.feature_extraction.text import TfidfVectorizer\n",
    "vectorizer = TfidfVectorizer(min_df=10,\n",
    "                             max_features=200000,\n",
    "                             tokenizer=tokenize,\n",
    "                             ngram_range=(1, 2))"
   ]
  },
  {
   "cell_type": "code",
   "execution_count": 121,
   "metadata": {
    "collapsed": true
   },
   "outputs": [],
   "source": [
    "test['desc_len'] = test['item_description'].apply(lambda x: wordCount(x))\n",
    "train['tokens'] = train['item_description'][:500].map(tokenize)\n",
    "test['tokens'] = test['item_description'][:500].map(tokenize)\n"
   ]
  },
  {
   "cell_type": "code",
   "execution_count": 128,
   "metadata": {},
   "outputs": [],
   "source": [
    "from sklearn.cluster import MiniBatchKMeans\n",
    "all_desc = np.append(train['item_description'][:500].values,test['item_description'][:500].values)\n",
    "\n",
    "num_clusters = 25 # Trial and Error\n",
    "kmeans_model = MiniBatchKMeans(n_clusters=num_clusters,\n",
    "                               init='k-means',\n",
    "                               n_init=1,\n",
    "                               init_size=1000, batch_size=1000, verbose=0, max_iter=1000)\n",
    "vect = vectorizer.fit_transform(list(all_desc))"
   ]
  },
  {
   "cell_type": "code",
   "execution_count": 129,
   "metadata": {
    "collapsed": true
   },
   "outputs": [],
   "source": [
    "tfidf = dict(zip(vectorizer.get_feature_names(), vectorizer.idf_))\n",
    "tfidf = pd.DataFrame(columns=['tfidf']).from_dict(\n",
    "                    dict(tfidf), orient='index')\n",
    "tfidf.columns = ['tfidf']"
   ]
  },
  {
   "cell_type": "code",
   "execution_count": 130,
   "metadata": {},
   "outputs": [
    {
     "data": {
      "text/html": [
       "<div>\n",
       "<style>\n",
       "    .dataframe thead tr:only-child th {\n",
       "        text-align: right;\n",
       "    }\n",
       "\n",
       "    .dataframe thead th {\n",
       "        text-align: left;\n",
       "    }\n",
       "\n",
       "    .dataframe tbody tr th {\n",
       "        vertical-align: top;\n",
       "    }\n",
       "</style>\n",
       "<table border=\"1\" class=\"dataframe\">\n",
       "  <thead>\n",
       "    <tr style=\"text-align: right;\">\n",
       "      <th></th>\n",
       "      <th>tfidf</th>\n",
       "    </tr>\n",
       "  </thead>\n",
       "  <tbody>\n",
       "    <tr>\n",
       "      <th>new</th>\n",
       "      <td>2.156182</td>\n",
       "    </tr>\n",
       "    <tr>\n",
       "      <th>size</th>\n",
       "      <td>2.329025</td>\n",
       "    </tr>\n",
       "    <tr>\n",
       "      <th>brand</th>\n",
       "      <td>2.778856</td>\n",
       "    </tr>\n",
       "    <tr>\n",
       "      <th>brand new</th>\n",
       "      <td>2.891475</td>\n",
       "    </tr>\n",
       "    <tr>\n",
       "      <th>condition</th>\n",
       "      <td>2.918322</td>\n",
       "    </tr>\n",
       "    <tr>\n",
       "      <th>free</th>\n",
       "      <td>2.952928</td>\n",
       "    </tr>\n",
       "    <tr>\n",
       "      <th>shipping</th>\n",
       "      <td>3.041220</td>\n",
       "    </tr>\n",
       "    <tr>\n",
       "      <th>used</th>\n",
       "      <td>3.254794</td>\n",
       "    </tr>\n",
       "    <tr>\n",
       "      <th>worn</th>\n",
       "      <td>3.264364</td>\n",
       "    </tr>\n",
       "    <tr>\n",
       "      <th>never</th>\n",
       "      <td>3.293634</td>\n",
       "    </tr>\n",
       "    <tr>\n",
       "      <th>great</th>\n",
       "      <td>3.354878</td>\n",
       "    </tr>\n",
       "    <tr>\n",
       "      <th>price</th>\n",
       "      <td>3.376155</td>\n",
       "    </tr>\n",
       "    <tr>\n",
       "      <th>black</th>\n",
       "      <td>3.526728</td>\n",
       "    </tr>\n",
       "    <tr>\n",
       "      <th>one</th>\n",
       "      <td>3.564949</td>\n",
       "    </tr>\n",
       "    <tr>\n",
       "      <th>free shipping</th>\n",
       "      <td>3.591267</td>\n",
       "    </tr>\n",
       "  </tbody>\n",
       "</table>\n",
       "</div>"
      ],
      "text/plain": [
       "                  tfidf\n",
       "new            2.156182\n",
       "size           2.329025\n",
       "brand          2.778856\n",
       "brand new      2.891475\n",
       "condition      2.918322\n",
       "free           2.952928\n",
       "shipping       3.041220\n",
       "used           3.254794\n",
       "worn           3.264364\n",
       "never          3.293634\n",
       "great          3.354878\n",
       "price          3.376155\n",
       "black          3.526728\n",
       "one            3.564949\n",
       "free shipping  3.591267"
      ]
     },
     "execution_count": 130,
     "metadata": {},
     "output_type": "execute_result"
    }
   ],
   "source": [
    "tfidf.sort_values(by=['tfidf'], ascending=True).head(15)\n"
   ]
  },
  {
   "cell_type": "code",
   "execution_count": 131,
   "metadata": {},
   "outputs": [
    {
     "data": {
      "text/html": [
       "<div>\n",
       "<style>\n",
       "    .dataframe thead tr:only-child th {\n",
       "        text-align: right;\n",
       "    }\n",
       "\n",
       "    .dataframe thead th {\n",
       "        text-align: left;\n",
       "    }\n",
       "\n",
       "    .dataframe tbody tr th {\n",
       "        vertical-align: top;\n",
       "    }\n",
       "</style>\n",
       "<table border=\"1\" class=\"dataframe\">\n",
       "  <thead>\n",
       "    <tr style=\"text-align: right;\">\n",
       "      <th></th>\n",
       "      <th>tfidf</th>\n",
       "    </tr>\n",
       "  </thead>\n",
       "  <tbody>\n",
       "    <tr>\n",
       "      <th>button</th>\n",
       "      <td>5.51086</td>\n",
       "    </tr>\n",
       "    <tr>\n",
       "      <th>looks</th>\n",
       "      <td>5.51086</td>\n",
       "    </tr>\n",
       "    <tr>\n",
       "      <th>store</th>\n",
       "      <td>5.51086</td>\n",
       "    </tr>\n",
       "    <tr>\n",
       "      <th>sleeves</th>\n",
       "      <td>5.51086</td>\n",
       "    </tr>\n",
       "    <tr>\n",
       "      <th>discount</th>\n",
       "      <td>5.51086</td>\n",
       "    </tr>\n",
       "    <tr>\n",
       "      <th>size fits</th>\n",
       "      <td>5.51086</td>\n",
       "    </tr>\n",
       "    <tr>\n",
       "      <th>shoulder</th>\n",
       "      <td>5.51086</td>\n",
       "    </tr>\n",
       "    <tr>\n",
       "      <th>free pet</th>\n",
       "      <td>5.51086</td>\n",
       "    </tr>\n",
       "    <tr>\n",
       "      <th>pack</th>\n",
       "      <td>5.51086</td>\n",
       "    </tr>\n",
       "    <tr>\n",
       "      <th>business</th>\n",
       "      <td>5.51086</td>\n",
       "    </tr>\n",
       "    <tr>\n",
       "      <th>card</th>\n",
       "      <td>5.51086</td>\n",
       "    </tr>\n",
       "    <tr>\n",
       "      <th>tank</th>\n",
       "      <td>5.51086</td>\n",
       "    </tr>\n",
       "    <tr>\n",
       "      <th>rose</th>\n",
       "      <td>5.51086</td>\n",
       "    </tr>\n",
       "    <tr>\n",
       "      <th>rips</th>\n",
       "      <td>5.51086</td>\n",
       "    </tr>\n",
       "    <tr>\n",
       "      <th>phone</th>\n",
       "      <td>5.51086</td>\n",
       "    </tr>\n",
       "  </tbody>\n",
       "</table>\n",
       "</div>"
      ],
      "text/plain": [
       "             tfidf\n",
       "button     5.51086\n",
       "looks      5.51086\n",
       "store      5.51086\n",
       "sleeves    5.51086\n",
       "discount   5.51086\n",
       "size fits  5.51086\n",
       "shoulder   5.51086\n",
       "free pet   5.51086\n",
       "pack       5.51086\n",
       "business   5.51086\n",
       "card       5.51086\n",
       "tank       5.51086\n",
       "rose       5.51086\n",
       "rips       5.51086\n",
       "phone      5.51086"
      ]
     },
     "execution_count": 131,
     "metadata": {},
     "output_type": "execute_result"
    }
   ],
   "source": [
    "tfidf.sort_values(by=['tfidf'], ascending=False).head(15)\n"
   ]
  },
  {
   "cell_type": "markdown",
   "metadata": {},
   "source": [
    "## Our final analysis consists of K-means clustering, where we will utilize the k-means algorithm for clustering the similar words together which can give us insight about a lot of things. \n"
   ]
  },
  {
   "cell_type": "code",
   "execution_count": 132,
   "metadata": {
    "collapsed": true
   },
   "outputs": [],
   "source": [
    "from sklearn.cluster import MiniBatchKMeans\n",
    "\n",
    "num_clusters = 25 # Trial and Error\n",
    "kmeans_model = MiniBatchKMeans(n_clusters=num_clusters,\n",
    "                               init='k-means++',\n",
    "                               n_init=1,\n",
    "                               init_size=1000, batch_size=1000, verbose=0, max_iter=1000)"
   ]
  },
  {
   "cell_type": "code",
   "execution_count": 133,
   "metadata": {},
   "outputs": [],
   "source": [
    "kmeans = kmeans_model.fit(vect)\n",
    "kmeans_clusters = kmeans.predict(vect)\n",
    "kmeans_distances = kmeans.transform(vect)"
   ]
  },
  {
   "cell_type": "code",
   "execution_count": 134,
   "metadata": {},
   "outputs": [
    {
     "name": "stdout",
     "output_type": "stream",
     "text": [
      "Cluster 0:\n",
      "wear || size || like || zipper || hard || gray || great || great condition || green || grey || \n",
      "\n",
      "Cluster 1:\n",
      "new box || box || new || authentic || brand || brand new || color || firm || leather || holds || \n",
      "\n",
      "Cluster 2:\n",
      "please || condition || ask questions || please ask || different || zip || minor || thank || full || take || \n",
      "\n",
      "Cluster 3:\n",
      "shipping || free shipping || free || new || brand || brand new || firm || price || size || beautiful || \n",
      "\n",
      "Cluster 4:\n",
      "description yet || yet || description || zipper || high || gray || great || great condition || green || grey || \n",
      "\n",
      "Cluster 5:\n",
      "pet free || pet || free home || smoke || home || free || fun || closet || fast || flaws || \n",
      "\n",
      "Cluster 6:\n",
      "new || brand new || brand || selling || shipping || bought || photos || super cute || sealed || cute || \n",
      "\n",
      "Cluster 7:\n",
      "great condition || great || condition || size || flaws || box || worn || boys || comes || minor || \n",
      "\n",
      "Cluster 8:\n",
      "size || new || brand || brand new || one || black || used || pink || top || back || \n",
      "\n",
      "Cluster 9:\n",
      "body || works || new || times || pink || used || easy || black || full || bundle save || \n",
      "\n",
      "Cluster 10:\n",
      "free || home || free home || smoke || pet || pet free || smoke free || free pet || comes || top || \n",
      "\n",
      "Cluster 11:\n",
      "tags || new tags || new || brand || brand new || size || size medium || medium || pink || secret || \n",
      "\n",
      "Cluster 12:\n",
      "never worn || never || worn || new never || size || new || brand new || brand || black || bought || \n",
      "\n",
      "Cluster 13:\n",
      "authentic || box || new || sealed || price || beauty || lot || original || still || shoes || \n",
      "\n",
      "Cluster 14:\n",
      "like new || like || new || size || new condition || condition || small || times || size small || medium || \n",
      "\n",
      "Cluster 15:\n",
      "good || good condition || condition || worn || size || times || used condition || worn times || used || still || \n",
      "\n",
      "Cluster 16:\n",
      "price || firm || price firm || brand new || brand || new || ask || shipping || sealed || please ask || \n",
      "\n",
      "Cluster 17:\n",
      "size || new || baby || good condition || gray || great || great condition || green || grey || hard || \n",
      "\n",
      "Cluster 18:\n",
      "silver || white || large || necklace || dark || time || beautiful || gold || line || color || \n",
      "\n",
      "Cluster 19:\n",
      "smoke free || smoke || home || free home || free || stains || condition || great || used || large || \n",
      "\n",
      "Cluster 20:\n",
      "perfect condition || perfect || condition || size || straps || pockets || little || hot || stains || times || \n",
      "\n",
      "Cluster 21:\n",
      "matte || lipstick || liquid || lip || closet || mini || new || brown || beauty || long || \n",
      "\n",
      "Cluster 22:\n",
      "worn || times || size || washed || black || red || condition || sale || closet || worn times || \n",
      "\n",
      "Cluster 23:\n",
      "usps || time || day || ask || ship || price || free || priority || button || takes || \n",
      "\n",
      "Cluster 24:\n",
      "never used || never || used || new never || new || opened || box || brand || brand new || eye || \n",
      "\n"
     ]
    }
   ],
   "source": [
    "centroids = kmeans.cluster_centers_.argsort()[:, ::-1]\n",
    "terms = vectorizer.get_feature_names()\n",
    "\n",
    "for i in range(num_clusters):\n",
    "    print(\"Cluster %d:\" % i)\n",
    "    words = ''\n",
    "    for j in centroids[i, :10]:\n",
    "        words += terms[j] + ' || '\n",
    "    print(words)\n",
    "    print() "
   ]
  },
  {
   "cell_type": "code",
   "execution_count": null,
   "metadata": {
    "collapsed": true
   },
   "outputs": [],
   "source": []
  },
  {
   "cell_type": "code",
   "execution_count": null,
   "metadata": {
    "collapsed": true
   },
   "outputs": [],
   "source": []
  }
 ],
 "metadata": {
  "kernelspec": {
   "display_name": "Python 3",
   "language": "python",
   "name": "python3"
  },
  "language_info": {
   "codemirror_mode": {
    "name": "ipython",
    "version": 3
   },
   "file_extension": ".py",
   "mimetype": "text/x-python",
   "name": "python",
   "nbconvert_exporter": "python",
   "pygments_lexer": "ipython3",
   "version": "3.6.3"
  }
 },
 "nbformat": 4,
 "nbformat_minor": 2
}
